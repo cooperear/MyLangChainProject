{
 "cells": [
  {
   "cell_type": "markdown",
   "metadata": {},
   "source": [
    "# LangChain ChatOpenAI + PydanticOutputParser 예제\n",
    "이 노트북은 LangChain의 `ChatOpenAI`와 `PydanticOutputParser`를 사용하여 구조화된 출력을 생성하는 방법을 보여줍니다."
   ]
  },
  {
   "cell_type": "markdown",
   "metadata": {},
   "source": []
  },
  {
   "cell_type": "code",
   "execution_count": 3,
   "metadata": {},
   "outputs": [
    {
     "name": "stdout",
     "output_type": "stream",
     "text": [
      "Using version ^2.11.9 for pydantic\n",
      "\n",
      "Updating dependencies\n",
      "Resolving dependencies...\n",
      "\n",
      "No dependencies to install or update\n",
      "\n",
      "Writing lock file\n"
     ]
    }
   ],
   "source": [
    "# 필수 라이브러리 설치\n",
    "!poetry add pydantic"
   ]
  },
  {
   "cell_type": "code",
   "execution_count": 4,
   "metadata": {},
   "outputs": [
    {
     "name": "stdout",
     "output_type": "stream",
     "text": [
      " name         : pydantic                                \n",
      " version      : 2.11.9                                  \n",
      " description  : Data validation using Python type hints \n",
      "\n",
      "dependencies\n",
      " - annotated-types >=0.6.0\n",
      " - pydantic-core 2.33.2\n",
      " - typing-extensions >=4.12.2\n",
      " - typing-inspection >=0.4.0\n",
      "\n",
      "required by\n",
      " - fastapi requires >=1.7.4,<1.8 || >1.8,<1.8.1 || >1.8.1,<2.0.0 || >2.0.0,<2.0.1 || >2.0.1,<2.1.0 || >2.1.0,<3.0.0\n",
      " - gradio requires >=2.0,<2.12\n",
      " - langchain requires >=2.7.4,<3.0.0\n",
      " - langchain-core requires >=2.7.4\n",
      " - langsmith requires >=1,<3\n",
      " - openai requires >=1.9.0,<3\n"
     ]
    }
   ],
   "source": [
    "!poetry show pydantic"
   ]
  },
  {
   "cell_type": "code",
   "execution_count": 10,
   "metadata": {},
   "outputs": [
    {
     "name": "stdout",
     "output_type": "stream",
     "text": [
      "gs\n"
     ]
    }
   ],
   "source": [
    "from dotenv import load_dotenv\n",
    "import os\n",
    "# .env 파일을 불러와서 환경 변수로 설정\n",
    "load_dotenv(dotenv_path='../.env')\n",
    "\n",
    "OPENAI_API_KEY = os.getenv(\"OPENAI_API_KEY\")\n",
    "print(OPENAI_API_KEY[:2])"
   ]
  },
  {
   "cell_type": "code",
   "execution_count": 33,
   "metadata": {},
   "outputs": [],
   "source": [
    "from langchain_openai import ChatOpenAI\n",
    "from langchain_core.prompts import ChatPromptTemplate\n",
    "from langchain.output_parsers import PydanticOutputParser\n",
    "\n",
    "from pydantic import BaseModel, Field\n",
    "from typing import List\n",
    "from pprint import pprint"
   ]
  },
  {
   "cell_type": "code",
   "execution_count": 18,
   "metadata": {},
   "outputs": [],
   "source": [
    "# 출력 구조를 정의하는 Pydantic 모델\n",
    "class MovieRecommendation(BaseModel):\n",
    "    movie_title: str = Field(description=\"추천 영화 제목\")\n",
    "    reason: str = Field(description=\"추천 이유\")\n",
    "    genre: List[str] = Field(description=\"영화 장르\")\n",
    "    estimated_rating: float = Field(description=\"10점 만점에서 예상 평점\")"
   ]
  },
  {
   "cell_type": "code",
   "execution_count": 19,
   "metadata": {},
   "outputs": [],
   "source": [
    "# Pydantic 출력 파서 초기화\n",
    "parser = PydanticOutputParser(pydantic_object=MovieRecommendation)"
   ]
  },
  {
   "cell_type": "code",
   "execution_count": 20,
   "metadata": {},
   "outputs": [],
   "source": [
    "# 프롬프트 템플릿 설정\n",
    "template = \"\"\"\n",
    "다음 사용자 요청에 따라 영화를 추천해주세요.\n",
    "요청: {query}\n",
    "\n",
    "{format_instructions}\n",
    "\"\"\"\n",
    "\n",
    "prompt = ChatPromptTemplate.from_template(template)\n",
    "\n",
    "# 파서의 지시사항을 프롬프트에 주입\n",
    "prompt = prompt.partial(\n",
    "    format_instructions=parser.get_format_instructions()\n",
    ")"
   ]
  },
  {
   "cell_type": "code",
   "execution_count": 26,
   "metadata": {},
   "outputs": [],
   "source": [
    "# 환경변수에서 OpenAI API 키 로드 (실제 사용시 주석 해제)\n",
    "# import os\n",
    "# os.environ[\"OPENAI_API_KEY\"] = \"your-api-key\"\n",
    "\n",
    "# ChatOpenAI 모델 초기화\n",
    "#model = ChatOpenAI(temperature=0.7, model=\"gpt-3.5-turbo\") #<< 안쓰임\n",
    "model = ChatOpenAI(\n",
    "    #api_key=OPENAI_API_KEY,\n",
    "    base_url=\"https://api.groq.com/openai/v1\",  # Groq API 엔드포인트\n",
    "    model=\"moonshotai/kimi-k2-instruct-0905\",\n",
    "    temperature=0.7\n",
    ")"
   ]
  },
  {
   "cell_type": "code",
   "execution_count": 46,
   "metadata": {},
   "outputs": [
    {
     "name": "stdout",
     "output_type": "stream",
     "text": [
      "<class '__main__.MovieRecommendation'>\n",
      "MovieRecommendation(movie_title='린(링)(リング)', reason='1990~2000년대 동아시아 공포의 상징적 작품. 비디오 테이프를 본 사람이 일주일 뒤 죽는다는 설정이 신선했고, 미사키 요코(貞子) 캐릭터가 한국·일본 공포 아이콘이 되었다. 일본판 1998년작 원작의 독특한 분위기와 긴장감 넘치는 연출은 지금 봐도 강렬하다.', genre=['공포', '미스터리', '초자연'], estimated_rating=8.7)\n"
     ]
    }
   ],
   "source": [
    "# 체인 구성 및 실행\n",
    "query = \"1990년대 부터 2000년대의 동아시아에서 상영된 공포 영화 추천해줘\"\n",
    "chain = prompt | model | parser\n",
    "output = chain.invoke({\"query\": query})\n",
    "\n",
    "pprint(type(output))\n",
    "pprint(output)"
   ]
  },
  {
   "cell_type": "code",
   "execution_count": 47,
   "metadata": {},
   "outputs": [
    {
     "name": "stdout",
     "output_type": "stream",
     "text": [
      "'추천 영화: 린(링)(リング)'\n",
      "('추천 이유: 1990~2000년대 동아시아 공포의 상징적 작품. 비디오 테이프를 본 사람이 일주일 뒤 죽는다는 설정이 신선했고, 미사키 '\n",
      " '요코(貞子) 캐릭터가 한국·일본 공포 아이콘이 되었다. 일본판 1998년작 원작의 독특한 분위기와 긴장감 넘치는 연출은 지금 봐도 '\n",
      " '강렬하다.')\n",
      "'장르: 공포, 미스터리, 초자연'\n",
      "'예상 평점: 8.7/10'\n"
     ]
    }
   ],
   "source": [
    "# 결과 출력\n",
    "pprint(f\"추천 영화: {output.movie_title}\")\n",
    "pprint(f\"추천 이유: {output.reason}\")\n",
    "pprint(f\"장르: {', '.join(output.genre)}\")\n",
    "pprint(f\"예상 평점: {output.estimated_rating}/10\")"
   ]
  },
  {
   "cell_type": "markdown",
   "metadata": {},
   "source": [
    "## 예상 출력 결과\n",
    "```\n",
    "추천 영화: The Silence of the Lambs\n",
    "추천 이유: 1991년에 개봉한 이 영화는 심리적 공포의 걸작으로 평가받으며, 1990년대를 대표하는 영화 중 하나입니다.\n",
    "장르: thriller, horror, crime\n",
    "예상 평점: 8.6/10\n",
    "```"
   ]
  }
 ],
 "metadata": {
  "kernelspec": {
   "display_name": "mylangchain-app-SBe-Yh6W-py3.13",
   "language": "python",
   "name": "python3"
  },
  "language_info": {
   "codemirror_mode": {
    "name": "ipython",
    "version": 3
   },
   "file_extension": ".py",
   "mimetype": "text/x-python",
   "name": "python",
   "nbconvert_exporter": "python",
   "pygments_lexer": "ipython3",
   "version": "3.13.5"
  }
 },
 "nbformat": 4,
 "nbformat_minor": 2
}
