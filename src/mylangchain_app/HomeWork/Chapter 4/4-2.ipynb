{
 "cells": [
  {
   "cell_type": "code",
   "execution_count": 1,
   "id": "5f748102",
   "metadata": {},
   "outputs": [
    {
     "name": "stderr",
     "output_type": "stream",
     "text": [
      "c:\\Users\\winds\\AppData\\Local\\pypoetry\\Cache\\virtualenvs\\mylangchain-app-SBe-Yh6W-py3.13\\Lib\\site-packages\\tqdm\\auto.py:21: TqdmWarning: IProgress not found. Please update jupyter and ipywidgets. See https://ipywidgets.readthedocs.io/en/stable/user_install.html\n",
      "  from .autonotebook import tqdm as notebook_tqdm\n"
     ]
    }
   ],
   "source": [
    "import os\n",
    "import re\n",
    "\n",
    "from typing import List, Dict, Any, Optional\n",
    "from langchain.tools import tool\n",
    "from langchain_openai import ChatOpenAI\n",
    "from langchain_community.document_loaders import TextLoader\n",
    "from langchain_community.vectorstores import FAISS\n",
    "from langchain_openai import OpenAIEmbeddings\n",
    "from langchain.text_splitter import RecursiveCharacterTextSplitter\n",
    "from langchain_core.documents import Document\n",
    "from langchain_core.messages import HumanMessage, AIMessage\n",
    "from langchain_core.prompts import ChatPromptTemplate\n",
    "from langgraph.graph import StateGraph, END\n",
    "from langgraph.prebuilt import create_react_agent\n",
    "from dotenv import load_dotenv\n",
    "import warnings\n",
    "warnings.filterwarnings('ignore')\n"
   ]
  },
  {
   "cell_type": "code",
   "execution_count": 2,
   "id": "21338787",
   "metadata": {},
   "outputs": [],
   "source": [
    "# 환경변수 설정\n",
    "load_dotenv()\n",
    "OPENAI_API_KEY = os.getenv(\"OPENAI_API_KEY\")\n",
    "\n",
    "# LLM 초기화\n",
    "llm = ChatOpenAI(\n",
    "    model=\"gpt-3.5-turbo\",\n",
    "    temperature=0.1\n",
    ")\n"
   ]
  },
  {
   "cell_type": "code",
   "execution_count": 3,
   "id": "486b06d2",
   "metadata": {},
   "outputs": [
    {
     "name": "stdout",
     "output_type": "stream",
     "text": [
      "벡터 DB 정상 로드\n"
     ]
    }
   ],
   "source": [
    "\n",
    "# 기존 벡터 DB 로드 (4-1.ipynb에서 생성된 것 사용)\n",
    "def load_vector_db():\n",
    "    \n",
    "    try:\n",
    "        embeddings = OpenAIEmbeddings()\n",
    "        vectorstore = FAISS.load_local(\"../db/cafe_db\", embeddings, allow_dangerous_deserialization=True)\n",
    "        print(\"벡터 DB 정상 로드\")\n",
    "        return vectorstore\n",
    "    except Exception as e:\n",
    "        print(f\"벡터 DB 로드 실패: {e}\")\n",
    "        \n",
    "        return None\n",
    "\n",
    "# 벡터 DB 로드\n",
    "menu_db = load_vector_db()\n"
   ]
  },
  {
   "cell_type": "code",
   "execution_count": 4,
   "id": "17a7bc2e",
   "metadata": {},
   "outputs": [
    {
     "name": "stdout",
     "output_type": "stream",
     "text": [
      "도구 정의 완료:\n",
      "- search_menu: 카페 메뉴를 검색합니다. 사용자의 질문을 그대로 검색어로 사용하여 관련 메뉴 정보를 찾습니다.\n",
      "- search_prices: 메뉴의 가격 정보를 검색합니다.\n",
      "- recommend_menu: 사용자의 요청에 따라 메뉴를 추천합니다.\n"
     ]
    }
   ],
   "source": [
    "# 고급 정보 추출 함수\n",
    "def extract_menu_info(doc: Document) -> dict:\n",
    "    \"\"\"Vector DB 문서에서 구조화된 메뉴 정보 추출\"\"\"\n",
    "    content = doc.page_content\n",
    "    \n",
    "    # 정규표현식으로 가격, 설명 등 추출\n",
    "    price_match = re.search(r'₩([\\d,]+)', content)\n",
    "    description_match = re.search(r'설명:\\s*(.+?)(?:\\n|$)', content, re.DOTALL)\n",
    "    ingredients_match = re.search(r'주요 원료:\\s*(.+?)(?:\\n|$)', content, re.DOTALL)\n",
    "    \n",
    "    # 메뉴 이름 추출 (첫 번째 줄에서 숫자 제거)\n",
    "    menu_name_match = re.search(r'^\\d+\\.\\s*(.+?)(?:\\n|$)', content, re.MULTILINE)\n",
    "    \n",
    "    return {\n",
    "        \"name\": menu_name_match.group(1).strip() if menu_name_match else \"메뉴명 없음\",\n",
    "        \"price\": price_match.group(0) if price_match else \"가격 정보 없음\",\n",
    "        \"description\": description_match.group(1).strip() if description_match else \"설명 없음\",\n",
    "        \"ingredients\": ingredients_match.group(1).strip() if ingredients_match else \"재료 정보 없음\"\n",
    "    }\n",
    "\n",
    "# 1. 메뉴 검색 도구\n",
    "@tool\n",
    "def search_menu(query: str) -> str:\n",
    "    \"\"\"카페 메뉴를 검색합니다. 사용자의 질문을 그대로 검색어로 사용하여 관련 메뉴 정보를 찾습니다.\"\"\"\n",
    "    if not menu_db:\n",
    "        return \"메뉴 데이터베이스를 사용할 수 없습니다.\"\n",
    "    \n",
    "    try:\n",
    "        # 사용자 문의를 그대로 검색어로 사용 (의미론적 검색)\n",
    "        docs = menu_db.similarity_search(query, k=4)\n",
    "        \n",
    "        if not docs:\n",
    "            return \"해당하는 메뉴를 찾을 수 없습니다.\"\n",
    "        \n",
    "        results = []\n",
    "        for i, doc in enumerate(docs, 1):\n",
    "            menu_info = extract_menu_info(doc)\n",
    "            result = f\"\"\"\n",
    "{i}. {menu_info['name']}\n",
    "   가격: {menu_info['price']}\n",
    "   재료: {menu_info['ingredients']}\n",
    "   설명: {menu_info['description'][:100]}...\n",
    "\"\"\"\n",
    "            results.append(result)\n",
    "        \n",
    "        return \"\\n\".join(results)\n",
    "    except Exception as e:\n",
    "        return f\"메뉴 검색 중 오류가 발생했습니다: {str(e)}\"\n",
    "\n",
    "# 2. 가격 정보 검색 도구\n",
    "@tool\n",
    "def search_prices(query: str) -> str:\n",
    "    \"\"\"메뉴의 가격 정보를 검색합니다.\"\"\"\n",
    "    if not menu_db:\n",
    "        return \"메뉴 데이터베이스를 사용할 수 없습니다.\"\n",
    "    \n",
    "    try:\n",
    "        # 가격 관련 검색\n",
    "        docs = menu_db.similarity_search(\"가격\", k=5)\n",
    "        \n",
    "        if not docs:\n",
    "            return \"가격 정보를 찾을 수 없습니다.\"\n",
    "        \n",
    "        results = []\n",
    "        for doc in docs:\n",
    "            menu_info = extract_menu_info(doc)\n",
    "            if menu_info['price'] != \"가격 정보 없음\":\n",
    "                results.append(f\"{menu_info['name']}: {menu_info['price']}\")\n",
    "        \n",
    "        return \"\\n\".join(results) if results else \"가격 정보를 찾을 수 없습니다.\"\n",
    "    except Exception as e:\n",
    "        return f\"가격 검색 중 오류가 발생했습니다: {str(e)}\"\n",
    "\n",
    "# 3. 메뉴 추천 도구\n",
    "@tool\n",
    "def recommend_menu(query: str) -> str:\n",
    "    \"\"\"사용자의 요청에 따라 메뉴를 추천합니다.\"\"\"\n",
    "    if not menu_db:\n",
    "        return \"메뉴 데이터베이스를 사용할 수 없습니다.\"\n",
    "    \n",
    "    try:\n",
    "        # 사용자 메시지로 먼저 검색\n",
    "        docs = menu_db.similarity_search(query, k=3)\n",
    "        \n",
    "        # 결과가 없으면 기본 추천 키워드로 검색\n",
    "        if not docs:\n",
    "            docs = menu_db.similarity_search(\"인기 메뉴\", k=3)\n",
    "        \n",
    "        if not docs:\n",
    "            return \"추천할 메뉴를 찾을 수 없습니다.\"\n",
    "        \n",
    "        results = []\n",
    "        for i, doc in enumerate(docs, 1):\n",
    "            menu_info = extract_menu_info(doc)\n",
    "            result = f\"\"\"\n",
    "{i}. {menu_info['name']} - {menu_info['price']}\n",
    "   {menu_info['description'][:80]}...\n",
    "\"\"\"\n",
    "            results.append(result)\n",
    "        \n",
    "        return \"\\n\".join(results)\n",
    "    except Exception as e:\n",
    "        return f\"메뉴 추천 중 오류가 발생했습니다: {str(e)}\"\n",
    "\n",
    "# 도구 리스트\n",
    "tools = [search_menu, search_prices, recommend_menu]\n",
    "\n",
    "print(\"도구 정의 완료:\")\n",
    "for tool in tools:\n",
    "    print(f\"- {tool.name}: {tool.description}\")\n"
   ]
  },
  {
   "cell_type": "code",
   "execution_count": null,
   "id": "b3d91f4b",
   "metadata": {},
   "outputs": [],
   "source": []
  },
  {
   "cell_type": "code",
   "execution_count": 5,
   "id": "58a1bc1f",
   "metadata": {},
   "outputs": [
    {
     "name": "stdout",
     "output_type": "stream",
     "text": [
      "ReAct Agent가 성공적으로 생성되었습니다.\n",
      "사용 가능한 도구: ['search_menu', 'search_prices', 'recommend_menu']\n"
     ]
    }
   ],
   "source": [
    "# ReAct Agent 생성\n",
    "agent = create_react_agent(\n",
    "    model=llm,\n",
    "    tools=tools,\n",
    "    prompt=ChatPromptTemplate.from_messages([\n",
    "        (\"system\", \"\"\"당신은 카페 직원입니다. 고객의 문의에 대해 답변해주세요.\n",
    "\n",
    "사용 가능한 도구들:\n",
    "- search_menu: 메뉴 검색 (사용자 질문을 그대로 검색어로 사용)\n",
    "- search_prices: 가격 정보 검색\n",
    "- recommend_menu: 메뉴 추천\n",
    "\n",
    "고객의 질문 유형에 따라 적절한 도구를 선택하여 사용하세요:\n",
    "- 특정 메뉴에 대한 질문 → search_menu 사용\n",
    "- 가격 관련 질문 → search_prices 사용  \n",
    "- 추천 요청 → recommend_menu 사용\n",
    "\n",
    "답변은 한국어로 작성하고, 구체적인 정보(가격, 재료, 설명)를 포함해주세요.\"\"\"),\n",
    "        (\"placeholder\", \"{messages}\")\n",
    "    ])\n",
    ")\n",
    "\n",
    "print(\"ReAct Agent가 성공적으로 생성되었습니다.\")\n",
    "print(f\"사용 가능한 도구: {[tool.name for tool in tools]}\")\n"
   ]
  },
  {
   "cell_type": "code",
   "execution_count": 6,
   "id": "82b77165",
   "metadata": {},
   "outputs": [
    {
     "data": {
      "image/png": "[encoded data removed]",
      "text/plain": [
       "<langgraph.graph.state.CompiledStateGraph object at 0x0000026B75EC0C20>"
      ]
     },
     "execution_count": 6,
     "metadata": {},
     "output_type": "execute_result"
    }
   ],
   "source": [
    "agent"
   ]
  },
  {
   "cell_type": "code",
   "execution_count": 8,
   "id": "3b8ebbd2",
   "metadata": {},
   "outputs": [
    {
     "name": "stdout",
     "output_type": "stream",
     "text": [
      "\n",
      "--- 대화 1 ---\n",
      "고객: 아메리카노 가격이 궁금해요.\n",
      "직원: 아메리카노의 가격은 ₩4,500입니다. 맛있게 즐기세요!\n",
      "\n",
      "--- 대화 2 ---\n",
      "고객: 카페라떼도 얼마인가요?\n",
      "직원: 카페라떼의 가격은 ₩4,500입니다. 맛있게 즐기세요!\n",
      "\n",
      "--- 대화 3 ---\n",
      "고객: 달콤한 커피 중에서 추천해주세요\n",
      "직원: 달콤한 커피로는 카라멜 마키아토를 추천드립니다. 카라멜 시럽과 휘핑크림이 올라간 스팀 밀크 위에 에스프레소를 부어 만들어진 달콤한 커피로, 카라멜의 진한 단맛과 커피의 깊은 맛이 조화를 이룹니다. 가격은 ₩6,500입니다. 맛있게 즐겨보세요!\n",
      "\n",
      "--- 대화 4 ---\n",
      "고객: 방금 추천한 메뉴들의 가격을 다시 알려주세요\n",
      "직원: - 아메리카노: ₩4,500\n",
      "- 카페라떼: ₩4,500\n",
      "- 카라멜 마키아토: ₩6,500\n",
      "\n",
      "위 가격으로 메뉴를 즐겨보세요!\n",
      "\n",
      "--- 대화 5 ---\n",
      "고객: 음료는 접시에 올려져서 서빙 되나요?\n",
      "직원: 커피나 음료는 일반적으로 접시에 올려져서 서빙되지 않습니다. 대부분의 경우 음료는 컵이나 유리잔에 담겨 제공됩니다. 따뜻한 음료는 보통 컵에, 차나 콜드 음료는 유리잔에 담겨 제공됩니다. 맛있는 음료를 편안하게 즐기실 수 있도록 서빙해드립니다. 부담 없이 말씀해주세요.\n",
      "\n",
      "--- 대화 6 ---\n",
      "고객:  두번째로 질문한 메뉴의 특징이 뭐라고요?\n",
      "직원: 카페라떼는 에스프레소와 스팀 밀크를 조합하여 만든 음료로, 부드럽고 크리미한 맛이 특징입니다. 에스프레소의 진한 풍미와 스팀 밀크의 부드러운 거품이 어우러져 부드럽고 깔끔한 맛을 즐길 수 있습니다. 카페인 함량이 적어 부드럽고 부드러운 커피를 선호하시는 분들에게 인기가 많은 메뉴입니다. 가격은 ₩4,500입니다. 맛있게 즐겨보세요!\n"
     ]
    }
   ],
   "source": [
    "def simulate_conversation():\n",
    "    \"\"\"대화 이력을 유지하는 시뮬레이션\"\"\"\n",
    "    \n",
    "    messages = []\n",
    "    \n",
    "    conversation = [\n",
    "        \"아메리카노 가격이 궁금해요.\",\n",
    "        \"카페라떼도 얼마인가요?\",\n",
    "        \"달콤한 커피 중에서 추천해주세요\",\n",
    "        \"방금 추천한 메뉴들의 가격을 다시 알려주세요\",\n",
    "        \"음료는 접시에 올려져서 서빙 되나요?\",\n",
    "        \" 두번째로 질문한 메뉴의 특징이 뭐라고요?\"\n",
    "    ]\n",
    "    \n",
    "    for i, user_input in enumerate(conversation, 1):\n",
    "        print(f\"\\n--- 대화 {i} ---\")\n",
    "        print(f\"고객: {user_input}\")\n",
    "        \n",
    "        \n",
    "        messages.append(HumanMessage(content=user_input))\n",
    "        \n",
    "        try:\n",
    "            # 에이전트 실행 (이전 대화 이력 포함)\n",
    "            response = agent.invoke({\"messages\": messages})\n",
    "    \n",
    "            if response[\"messages\"]:\n",
    "                ai_message = response[\"messages\"][-1]\n",
    "            \n",
    "                if isinstance(ai_message, AIMessage):\n",
    "                    messages.append(ai_message)\n",
    "                    print(f\"직원: {ai_message.content}\")\n",
    "                else:\n",
    "                    print(f\"응답: {ai_message}\")\n",
    "            \n",
    "        except Exception as e:\n",
    "            print(f\"오류 발생: {str(e)}\")\n",
    "    \n",
    "\n",
    "simulate_conversation()\n"
   ]
  },
  {
   "cell_type": "code",
   "execution_count": null,
   "id": "b848eab5",
   "metadata": {},
   "outputs": [],
   "source": []
  }
 ],
 "metadata": {
  "kernelspec": {
   "display_name": "mylangchain-app-SBe-Yh6W-py3.13",
   "language": "python",
   "name": "python3"
  },
  "language_info": {
   "codemirror_mode": {
    "name": "ipython",
    "version": 3
   },
   "file_extension": ".py",
   "mimetype": "text/x-python",
   "name": "python",
   "nbconvert_exporter": "python",
   "pygments_lexer": "ipython3",
   "version": "3.13.5"
  }
 },
 "nbformat": 4,
 "nbformat_minor": 5
}
