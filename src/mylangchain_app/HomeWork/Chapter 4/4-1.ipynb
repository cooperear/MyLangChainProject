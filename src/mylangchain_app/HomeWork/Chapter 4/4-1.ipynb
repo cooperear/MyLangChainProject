{
 "cells": [
  {
   "cell_type": "code",
   "execution_count": 1,
   "id": "c400ac49",
   "metadata": {},
   "outputs": [
    {
     "name": "stderr",
     "output_type": "stream",
     "text": [
      "c:\\Users\\winds\\AppData\\Local\\pypoetry\\Cache\\virtualenvs\\mylangchain-app-SBe-Yh6W-py3.13\\Lib\\site-packages\\tqdm\\auto.py:21: TqdmWarning: IProgress not found. Please update jupyter and ipywidgets. See https://ipywidgets.readthedocs.io/en/stable/user_install.html\n",
      "  from .autonotebook import tqdm as notebook_tqdm\n"
     ]
    }
   ],
   "source": [
    "\n",
    "import os\n",
    "from typing import List, Dict, Any\n",
    "from langchain.tools import tool\n",
    "from langchain_openai import ChatOpenAI\n",
    "from langchain_community.document_loaders import TextLoader\n",
    "from langchain_community.vectorstores import FAISS\n",
    "from langchain_openai import OpenAIEmbeddings\n",
    "\n",
    "from langchain.text_splitter import RecursiveCharacterTextSplitter\n",
    "from langchain_core.documents import Document\n",
    "from langchain_core.runnables import RunnablePassthrough\n",
    "from langchain_core.output_parsers import StrOutputParser\n",
    "from langchain_core.prompts import ChatPromptTemplate\n",
    "from langchain_core.runnables import chain\n",
    "from langchain_community.tools import TavilySearchResults\n",
    "from langchain_community.tools import WikipediaQueryRun\n",
    "from dotenv import load_dotenv\n",
    "import wikipedia\n",
    "import warnings\n",
    "warnings.filterwarnings('ignore')\n"
   ]
  },
  {
   "cell_type": "code",
   "execution_count": 2,
   "id": "fd16e8fc",
   "metadata": {},
   "outputs": [],
   "source": [
    "from dotenv import load_dotenv\n",
    "load_dotenv()\n",
    "OPENAI_API_KEY = os.getenv(\"OPENAI_API_KEY\")\n",
    "TAVILY_API_KEY = os.getenv(\"TAVILY_API_KEY\")\n"
   ]
  },
  {
   "cell_type": "code",
   "execution_count": 11,
   "id": "aedf629e",
   "metadata": {},
   "outputs": [],
   "source": [
    "# 카페 메뉴 데이터 로드\n",
    "def load_cafe_menu_data():\n",
    "    \"\"\"카페 메뉴 데이터를 로드하고 Document 객체로 변환\"\"\"\n",
    "    loader = TextLoader(\"../../data/cafe_menu_data.txt\", encoding=\"utf-8\")\n",
    "    documents = loader.load()\n",
    "    \n",
    "    # 텍스트 분할\n",
    "    text_splitter = RecursiveCharacterTextSplitter(\n",
    "        chunk_size=1000,\n",
    "        chunk_overlap=200\n",
    "    )\n",
    "    splits = text_splitter.split_documents(documents)\n",
    "    \n",
    "    return splits\n",
    "\n",
    "# 벡터 DB 구축\n",
    "def build_vector_db():\n",
    "    documents = load_cafe_menu_data()\n",
    "    \n",
    "    print(f\"총 {len(documents)}개의 문서 청크 생성\")\n",
    "    \n",
    "    # 임베딩 모델 초기화\n",
    "    embeddings = OpenAIEmbeddings()\n",
    "    \n",
    "    \n",
    "    # FAISS 벡터 스토어 생성\n",
    "    vectorstore = FAISS.from_documents(documents, embeddings)\n",
    "    \n",
    "    # 벡터 DB 저장\n",
    "    db_path = \"../db/cafe_db\"\n",
    "    vectorstore.save_local(db_path)\n",
    "    print(f\"벡터 DB가 {db_path}에 저장되었습니다.\")\n",
    "    \n",
    "    return vectorstore"
   ]
  },
  {
   "cell_type": "code",
   "execution_count": 12,
   "id": "9f3aa37c",
   "metadata": {},
   "outputs": [
    {
     "name": "stdout",
     "output_type": "stream",
     "text": [
      "총 3개의 문서 청크 생성\n",
      "벡터 DB가 ../db/cafe_db에 저장되었습니다.\n"
     ]
    }
   ],
   "source": [
    "vectorstore = build_vector_db()\n"
   ]
  },
  {
   "cell_type": "code",
   "execution_count": 5,
   "id": "26296e7e",
   "metadata": {},
   "outputs": [
    {
     "name": "stdout",
     "output_type": "stream",
     "text": [
      "- tavily_search_results_json: A search engine optimized for comprehensive, accurate, and trusted results. Useful for when you need to answer questions about current events. Input should be a search query.\n",
      "- wiki_summary: args:\n",
      "    topic : str\n",
      "return: \n",
      "    answer : str\n",
      "- db_search_cafe_func: args:\n",
      "    query : str\n"
     ]
    }
   ],
   "source": [
    "\n",
    "tavily_search_tool = TavilySearchResults(\n",
    "    api_key=TAVILY_API_KEY,\n",
    "    max_results=3\n",
    ")\n",
    "\n",
    "\n",
    "@tool\n",
    "def wiki_summary(topic: str) -> str:\n",
    "    \"\"\" \n",
    "    args:\n",
    "        topic : str\n",
    "    return: \n",
    "        answer : str\n",
    "    \"\"\"\n",
    "    try:\n",
    "        wikipedia.set_lang(\"ko\")\n",
    "        \n",
    "        page = wikipedia.page(topic)\n",
    "        \n",
    "        summary = page.summary[:500] + \"...\" if len(page.summary) > 500 else page.summary\n",
    "        \n",
    "        return f\"주제: {topic}\\n요약: {summary}\\nURL: {page.url}\"\n",
    "    except wikipedia.exceptions.DisambiguationError as e:\n",
    "        try:\n",
    "            page = wikipedia.page(e.options[0])\n",
    "            summary = page.summary[:500] + \"...\" if len(page.summary) > 500 else page.summary\n",
    "            return f\"주제: {e.options[0]}\\n요약: {summary}\\n URL: {page.url}\"\n",
    "        except:\n",
    "            return f\"'{topic}'에 대한 정보 없음\"\n",
    "    except Exception as e:\n",
    "        return f\"위키피디아 검색 중 오류가 발생했습니다: {str(e)}\"\n",
    "\n",
    "@tool\n",
    "def db_search_cafe_func(query: str) -> List[Document]:\n",
    "    \"\"\"\n",
    "    args:\n",
    "        query : str\n",
    "    \"\"\"\n",
    "    try:\n",
    "        docs = vectorstore.similarity_search(query, k=3)\n",
    "        return docs\n",
    "    except Exception as e:\n",
    "        print(f\"DB 검색 중 오류가 발생했습니다: {str(e)}\")\n",
    "        return []\n",
    "\n",
    "\n",
    "tools = [tavily_search_tool, wiki_summary, db_search_cafe_func]\n",
    "\n",
    "for tool in tools:\n",
    "    print(f\"- {tool.name}: {tool.description}\")\n"
   ]
  },
  {
   "cell_type": "code",
   "execution_count": 6,
   "id": "40620785",
   "metadata": {},
   "outputs": [
    {
     "name": "stdout",
     "output_type": "stream",
     "text": [
      "사용 가능한 도구: ['tavily_search_results_json', 'wiki_summary', 'db_search_cafe_func']\n"
     ]
    }
   ],
   "source": [
    "llm = ChatOpenAI(\n",
    "    model=\"gpt-3.5-turbo\",\n",
    "    temperature=0.1,\n",
    ")\n",
    "\n",
    "\n",
    "llm_with_tools = llm.bind_tools(tools)\n",
    "\n",
    "\n",
    "print(f\"사용 가능한 도구: {[tool.name for tool in tools]}\")\n"
   ]
  },
  {
   "cell_type": "code",
   "execution_count": 7,
   "id": "e3ed98ac",
   "metadata": {},
   "outputs": [],
   "source": [
    "@chain\n",
    "def tool_calling_chain(user_question: str) -> str:\n",
    "    \"\"\" 도구 호출 체인 \"\"\"\n",
    "    response = llm_with_tools.invoke(user_question)\n",
    "    \n",
    "    if hasattr(response, 'tool_calls') and response.tool_calls:\n",
    "        tool_results = []\n",
    "\n",
    "        for tool_call in response.tool_calls:\n",
    "        \n",
    "            tool_name = tool_call['name']\n",
    "            tool_args = tool_call['args']\n",
    "            tool_id = tool_call['id']\n",
    "            \n",
    "\n",
    "            if tool_name == \"tavily_search_results_json\":\n",
    "                result = tavily_search_tool.invoke(tool_args)\n",
    "            elif tool_name == \"wiki_summary\":\n",
    "                result = wiki_summary.invoke(tool_args)\n",
    "            elif tool_name == \"db_search_cafe_func\":\n",
    "                docs = db_search_cafe_func.invoke(tool_args)\n",
    "                result = \"\\n\".join([doc.page_content for doc in docs])\n",
    "            else:\n",
    "                result = f\"이상한 도구? : {tool_name}\"\n",
    "            \n",
    "            tool_results.append(f\"도구 {tool_name} 결과:\\n{result}\")\n",
    "        \n",
    "        final_prompt = ChatPromptTemplate.from_template(\n",
    "            \"\"\"사용자 질문: {question}\n",
    "            도구 실행 결과:\n",
    "            {tool_results}\n",
    "\n",
    "            위 정보를 바탕으로 사용자 질문에 대한 답변을 제공해주세요.\n",
    "            답변은 한국어로 작성하고, 구체적인 정보(가격, 재료 등)를 포함해주세요.\"\"\"\n",
    "        )\n",
    "        \n",
    "        final_chain = final_prompt | llm | StrOutputParser()\n",
    "        final_answer = final_chain.invoke({\n",
    "            \"question\": user_question,\n",
    "            \"tool_results\": \"\\n\\n\".join(tool_results)\n",
    "        })\n",
    "        \n",
    "        return final_answer\n",
    "    \n",
    "    else:\n",
    "        # 도구 호출이 없는 경우 기본 응답\n",
    "        return \"질문에 대답 못하겠습니다. 구체적으로 적어주세요\"\n",
    "\n"
   ]
  },
  {
   "cell_type": "code",
   "execution_count": 8,
   "id": "ef3c8025",
   "metadata": {},
   "outputs": [
    {
     "name": "stdout",
     "output_type": "stream",
     "text": [
      "답변: 아메리카노는 에스프레소를 뜨거운 물로 희석하여 만든 커피 음료로, 가격은 보통 ₩4,500 정도입니다. 주요 원료는 에스프레소와 뜨거운 물이며, 설탕이나 시럽을 추가하여 맛을 조절할 수 있습니다. 아메리카노는 클래식한 블랙 커피로, 원두 본연의 맛을 가장 잘 느낄 수 있으며 깔끔하고 깊은 풍미가 특징입니다. 더운 날씨에는 시원하게 즐기기 좋은 음료입니다.\n"
     ]
    }
   ],
   "source": [
    "test_question = \"아메리카노의 가격과 특징은 무엇인가요?\"\n",
    "\n",
    "answer = tool_calling_chain.invoke(test_question)\n",
    "print(f\"답변: {answer}\")"
   ]
  },
  {
   "cell_type": "code",
   "execution_count": 9,
   "id": "e9b9d424",
   "metadata": {},
   "outputs": [
    {
     "name": "stdout",
     "output_type": "stream",
     "text": [
      "답변: 카페라떼와 카푸치노의 차이는 주로 우유와 에스프레소의 비율, 우유 거품의 두께, 그리고 마무리로 라테 아트를 만들어내는 것에 있습니다. 카페라떼는 우유의 양이 많고 우유 거품의 두께가 얇아 부드러운 질감을 가지며, 카푸치노는 우유의 양이 적고 거품의 양이 많아 진한 에스프레소의 맛을 느낄 수 있습니다.\n",
      "\n",
      "일반적으로 카페라떼의 가격은 카푸치노보다 조금 더 비싸며, 가격은 매장이나 지역에 따라 다를 수 있습니다. 일반적으로 카페라떼는 4,000원에서 6,000원 사이에 판매되고, 카푸치노는 3,500원에서 5,500원 사이에 판매될 수 있습니다. 따라서 카페라떼가 카푸치노보다 조금 더 비싼 편이라고 할 수 있습니다.\n"
     ]
    }
   ],
   "source": [
    "test_question2 = \"카페라떼와 카푸치노의 차이점과 각각의 가격을 알려주세요.\"\n",
    "\n",
    "answer2 = tool_calling_chain.invoke(test_question2)\n",
    "print(f\"답변: {answer2}\")"
   ]
  },
  {
   "cell_type": "code",
   "execution_count": 10,
   "id": "6154b7c3",
   "metadata": {},
   "outputs": [
    {
     "name": "stdout",
     "output_type": "stream",
     "text": [
      "답변: MSM과 콘드로이친은 서로 다른 물질입니다.\n",
      "\n",
      "MSM은 메틸설폰일메탄(Methylsulfonylmethane)의 약자로, 유기황 화합물로서 관절 건강에 도움을 줄 수 있는 건강 보조제로 사용됩니다. 관절염이나 연골 손상으로 인한 통증을 완화하거나 관절 건강을 유지하는 데 도움을 줄 수 있습니다. MSM은 식품으로 섭취할 수 있으며, 건강 보조제로 판매되고 있습니다.\n",
      "\n",
      "반면, 콘드로이친은 구립운석(chondrite)이라고도 불리는 석질운석의 일종으로, 운석의 원석이 용융이나 분화로 변경되지 않은 것을 말합니다. 콘드로이친은 우주에서 형성된 미세한 입자들이 모여서 형성된 운석으로, 지구상에서 발견된 운석의 대부분이 콘드로이친입니다.\n",
      "\n",
      "따라서, MSM은 건강 보조제로 사용되는 화합물이고, 콘드로이친은 운석의 일종으로 지구상에서 발견되는 미네랄입니다.\n"
     ]
    }
   ],
   "source": [
    "test_question = \"MSM과 콘드로이친의 차이는?\"\n",
    "\n",
    "answer = tool_calling_chain.invoke(test_question)\n",
    "print(f\"답변: {answer}\")"
   ]
  }
 ],
 "metadata": {
  "kernelspec": {
   "display_name": "mylangchain-app-SBe-Yh6W-py3.13",
   "language": "python",
   "name": "python3"
  },
  "language_info": {
   "codemirror_mode": {
    "name": "ipython",
    "version": 3
   },
   "file_extension": ".py",
   "mimetype": "text/x-python",
   "name": "python",
   "nbconvert_exporter": "python",
   "pygments_lexer": "ipython3",
   "version": "3.13.5"
  }
 },
 "nbformat": 4,
 "nbformat_minor": 5
}
