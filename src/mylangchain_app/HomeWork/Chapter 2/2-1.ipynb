{
 "cells": [
  {
   "cell_type": "code",
   "execution_count": 10,
   "id": "d059bb8c",
   "metadata": {},
   "outputs": [],
   "source": [
    "import os\n",
    "from dotenv import load_dotenv\n",
    "from langchain_core.prompts import ChatPromptTemplate\n",
    "from langchain_openai import ChatOpenAI \n",
    "\n",
    "from langchain_core.output_parsers import StrOutputParser\n",
    "import langchain\n",
    "# load_dotenv(dotenv_path='.env')\n",
    "load_dotenv()\n",
    "OPENAI_API_KEY = os.getenv(\"OPENAI_API_KEY\")\n"
   ]
  },
  {
   "cell_type": "code",
   "execution_count": 19,
   "id": "393f26a8",
   "metadata": {},
   "outputs": [],
   "source": [
    "from langchain_core.output_parsers import CommaSeparatedListOutputParser\n",
    "from langchain_core.prompts import PromptTemplate\n",
    "from langchain_openai import ChatOpenAI\n",
    "import csv\n",
    "\n"
   ]
  },
  {
   "cell_type": "code",
   "execution_count": null,
   "id": "5ddbbf85",
   "metadata": {},
   "outputs": [],
   "source": []
  },
  {
   "cell_type": "code",
   "execution_count": null,
   "id": "341cb840",
   "metadata": {},
   "outputs": [
    {
     "ename": "",
     "evalue": "",
     "output_type": "error",
     "traceback": [
      "\u001b[1;31mThe Kernel crashed while executing code in the current cell or a previous cell. \n",
      "\u001b[1;31mPlease review the code in the cell(s) to identify a possible cause of the failure. \n",
      "\u001b[1;31mClick <a href='https://aka.ms/vscodeJupyterKernelCrash'>here</a> for more info. \n",
      "\u001b[1;31mView Jupyter <a href='command:jupyter.viewOutput'>log</a> for further details."
     ]
    }
   ],
   "source": []
  },
  {
   "cell_type": "code",
   "execution_count": 20,
   "id": "5cf47229",
   "metadata": {},
   "outputs": [],
   "source": [
    "def interest_moving(interest):\n",
    "\n",
    "    output_parser = CommaSeparatedListOutputParser()\n",
    "\n",
    "    format_instructions = output_parser.get_format_instructions()\n",
    "    \n",
    "    \n",
    "    prompt = PromptTemplate(\n",
    "    \n",
    "    template=\"List five {subject}.\\n{format_instructions}\",\n",
    "    input_variables=[\"subject\"],\n",
    "    partial_variables={\"format_instructions\": format_instructions},\n",
    "    \n",
    "    )\n",
    "\n",
    "# OpenAI 모델 설정\n",
    "\n",
    "    llm = ChatOpenAI(\n",
    "        base_url=\"https://api.groq.com/openai/v1\",  # Groq API 엔드포인트\n",
    "        model=\"moonshotai/kimi-k2-instruct-0905\",\n",
    "        temperature=0.7\n",
    "    )\n",
    "\n",
    "    chain = prompt | llm | output_parser\n",
    "\n",
    "    result = chain.invoke({\"subject\": f\"{interest} 분야에 관련된 한국의 유명한 장소나 활동, 음식같은 명물\"})\n",
    "\n",
    "    # 쉼표로 구분된 리스트 출력\n",
    "    return result\n",
    "\n"
   ]
  },
  {
   "cell_type": "code",
   "execution_count": 21,
   "id": "f7c088ef",
   "metadata": {},
   "outputs": [
    {
     "data": {
      "text/plain": [
       "['성산일출봉', '한라산 등반', '흑돼지 바비큐', '제주 바다 카약', '제주도 민속촌']"
      ]
     },
     "execution_count": 21,
     "metadata": {},
     "output_type": "execute_result"
    }
   ],
   "source": [
    "interest_moving(\"제주도\")"
   ]
  },
  {
   "cell_type": "code",
   "execution_count": 16,
   "id": "68039aa4",
   "metadata": {},
   "outputs": [
    {
     "data": {
      "text/plain": [
       "['고척스카이돔', '잠실야구장', 'SSG랜더스필드', '야구장 치킨과 맥주', '프로야구 응원문화']"
      ]
     },
     "execution_count": 16,
     "metadata": {},
     "output_type": "execute_result"
    }
   ],
   "source": [
    "interest_moving(\"야구\")"
   ]
  },
  {
   "cell_type": "code",
   "execution_count": 40,
   "id": "e6933d80",
   "metadata": {},
   "outputs": [
    {
     "data": {
      "text/plain": [
       "['전주한옥마을', '제주흑돼지거리', '부산자갈치시장', '김장문화축제', '강릉커피거리']"
      ]
     },
     "execution_count": 40,
     "metadata": {},
     "output_type": "execute_result"
    }
   ],
   "source": [
    "interest_moving(\"음식\")"
   ]
  }
 ],
 "metadata": {
  "kernelspec": {
   "display_name": "mylangchain-app-SBe-Yh6W-py3.13",
   "language": "python",
   "name": "python3"
  },
  "language_info": {
   "codemirror_mode": {
    "name": "ipython",
    "version": 3
   },
   "file_extension": ".py",
   "mimetype": "text/x-python",
   "name": "python",
   "nbconvert_exporter": "python",
   "pygments_lexer": "ipython3",
   "version": "3.13.5"
  }
 },
 "nbformat": 4,
 "nbformat_minor": 5
}
