{
 "cells": [
  {
   "cell_type": "code",
   "execution_count": 2,
   "id": "d059bb8c",
   "metadata": {},
   "outputs": [],
   "source": [
    "import os\n",
    "from dotenv import load_dotenv\n",
    "from langchain_core.prompts import ChatPromptTemplate\n",
    "from langchain_openai import ChatOpenAI \n",
    "\n",
    "from langchain_core.output_parsers import StrOutputParser\n",
    "import langchain\n",
    "# load_dotenv(dotenv_path='.env')\n",
    "load_dotenv()\n",
    "OPENAI_API_KEY = os.getenv(\"OPENAI_API_KEY\")\n"
   ]
  },
  {
   "cell_type": "code",
   "execution_count": null,
   "id": "393f26a8",
   "metadata": {},
   "outputs": [
    {
     "name": "stdout",
     "output_type": "stream",
     "text": [
      "Your response should be a list of comma separated values, eg: `foo, bar, baz` or `foo,bar,baz`\n"
     ]
    }
   ],
   "source": [
    "from langchain_core.output_parsers import CommaSeparatedListOutputParser\n",
    "from langchain_core.prompts import PromptTemplate\n",
    "from langchain_openai import ChatOpenAI\n",
    "import csv\n",
    "\n"
   ]
  },
  {
   "cell_type": "code",
   "execution_count": null,
   "id": "5ddbbf85",
   "metadata": {},
   "outputs": [],
   "source": [
    "\n",
    "# 프롬프트 템플릿 설정\n",
    "prompt = PromptTemplate(\n",
    "    template=\"List five {subject}.\\n{format_instructions}\",\n",
    "    input_variables=[\"subject\"],\n",
    "    partial_variables={\"format_instructions\": format_instructions},\n",
    ")\n",
    "\n",
    "# OpenAI 모델 설정\n",
    "#model = ChatOpenAI(model=\"gpt-3.5-turbo\", temperature=0)\n",
    "llm = ChatOpenAI(\n",
    "    base_url=\"https://api.groq.com/openai/v1\",  # Groq API 엔드포인트\n",
    "    #model=\"meta-llama/llama-4-scout-17b-16e-instruct\",  # Spring AI와 동일한 모델\n",
    "    # model=\"moonshotai/kimi-k2-instruct-0905\",\n",
    "    model=\"moonshotai/kimi-k2-instruct-0905\",\n",
    "    temperature=0.7\n",
    ")"
   ]
  },
  {
   "cell_type": "code",
   "execution_count": null,
   "id": "341cb840",
   "metadata": {},
   "outputs": [
    {
     "name": "stdout",
     "output_type": "stream",
     "text": [
      "['명동 쇼핑 거리', '부산 해운대 해변 서핑', '제주도 오름 트레킹', '한강 시민공원 피크닉', '경주 불국사 탐방']\n",
      " '../../data/attract.csv' 파일로 저장 완료!\n"
     ]
    }
   ],
   "source": [
    "# 프롬프트, 모델, 출력 파서를 연결하여 체인 생성\n",
    "chain = prompt | llm | output_parser\n",
    "\n",
    "# \"AI 관련 기술\"에 대한 체인 호출 실행\n",
    "\n"
   ]
  },
  {
   "cell_type": "code",
   "execution_count": 37,
   "id": "5cf47229",
   "metadata": {},
   "outputs": [],
   "source": [
    "def interest_moving(interest):\n",
    "\n",
    "    output_parser = CommaSeparatedListOutputParser()\n",
    "\n",
    "    format_instructions = output_parser.get_format_instructions()\n",
    "    \n",
    "    \n",
    "    prompt = PromptTemplate(\n",
    "    \n",
    "    template=\"List five {subject}.\\n{format_instructions}\",\n",
    "    input_variables=[\"subject\"],\n",
    "    partial_variables={\"format_instructions\": format_instructions},\n",
    "    \n",
    "    )\n",
    "\n",
    "# OpenAI 모델 설정\n",
    "\n",
    "    llm = ChatOpenAI(\n",
    "        base_url=\"https://api.groq.com/openai/v1\",  # Groq API 엔드포인트\n",
    "        model=\"moonshotai/kimi-k2-instruct-0905\",\n",
    "        temperature=0.7\n",
    "    )\n",
    "\n",
    "    chain = prompt | llm | output_parser\n",
    "\n",
    "    result = chain.invoke({\"subject\": f\"{interest} 분야에 관련된 한국의 유명한 장소나 활동, 음식같은 명물\"})\n",
    "\n",
    "    # 쉼표로 구분된 리스트 출력\n",
    "    return result\n",
    "\n"
   ]
  },
  {
   "cell_type": "code",
   "execution_count": 38,
   "id": "f7c088ef",
   "metadata": {},
   "outputs": [
    {
     "data": {
      "text/plain": [
       "['성산일출봉', '한라산 등산', '흑돼지 구이', '만장굴 탐방', '제주 감귤']"
      ]
     },
     "execution_count": 38,
     "metadata": {},
     "output_type": "execute_result"
    }
   ],
   "source": [
    "interest_moving(\"제주도\")"
   ]
  },
  {
   "cell_type": "code",
   "execution_count": 39,
   "id": "68039aa4",
   "metadata": {},
   "outputs": [
    {
     "data": {
      "text/plain": [
       "['고척스카이돔', '잠실야구장', 'KBO 리그 응원문화', '야구장 민트초코치킨', '야구장 먹거리 번개탕']"
      ]
     },
     "execution_count": 39,
     "metadata": {},
     "output_type": "execute_result"
    }
   ],
   "source": [
    "interest_moving(\"야구\")"
   ]
  },
  {
   "cell_type": "code",
   "execution_count": 40,
   "id": "e6933d80",
   "metadata": {},
   "outputs": [
    {
     "data": {
      "text/plain": [
       "['전주한옥마을', '제주흑돼지거리', '부산자갈치시장', '김장문화축제', '강릉커피거리']"
      ]
     },
     "execution_count": 40,
     "metadata": {},
     "output_type": "execute_result"
    }
   ],
   "source": [
    "interest_moving(\"음식\")"
   ]
  }
 ],
 "metadata": {
  "kernelspec": {
   "display_name": "mylangchain-app-SBe-Yh6W-py3.13",
   "language": "python",
   "name": "python3"
  },
  "language_info": {
   "codemirror_mode": {
    "name": "ipython",
    "version": 3
   },
   "file_extension": ".py",
   "mimetype": "text/x-python",
   "name": "python",
   "nbconvert_exporter": "python",
   "pygments_lexer": "ipython3",
   "version": "3.13.5"
  }
 },
 "nbformat": 4,
 "nbformat_minor": 5
}
