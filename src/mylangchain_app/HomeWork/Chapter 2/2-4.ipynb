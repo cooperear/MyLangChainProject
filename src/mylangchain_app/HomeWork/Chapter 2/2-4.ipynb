{
 "cells": [
  {
   "cell_type": "code",
   "execution_count": 1,
   "id": "08cb521b",
   "metadata": {},
   "outputs": [
    {
     "name": "stdout",
     "output_type": "stream",
     "text": [
      "gs\n"
     ]
    }
   ],
   "source": [
    "from dotenv import load_dotenv\n",
    "import os\n",
    "# .env 파일을 불러와서 환경 변수로 설정\n",
    "load_dotenv(dotenv_path='../.env')\n",
    "\n",
    "OPENAI_API_KEY = os.getenv(\"OPENAI_API_KEY\")\n",
    "print(OPENAI_API_KEY[:2])"
   ]
  },
  {
   "cell_type": "code",
   "execution_count": 2,
   "id": "ab9a0477",
   "metadata": {},
   "outputs": [],
   "source": [
    "from langchain_openai import ChatOpenAI\n",
    "from langchain_core.prompts import ChatPromptTemplate\n",
    "from langchain.output_parsers import StructuredOutputParser, ResponseSchema\n",
    "\n",
    "from pprint import pprint"
   ]
  },
  {
   "cell_type": "code",
   "execution_count": 8,
   "id": "507e8739",
   "metadata": {},
   "outputs": [],
   "source": [
    "def review_parser_for_travel(input_review:str):\n",
    "    model = ChatOpenAI(\n",
    "        base_url=\"https://api.groq.com/openai/v1\", \n",
    "        model=\"moonshotai/kimi-k2-instruct-0905\",\n",
    "        temperature=0.7\n",
    "    )\n",
    "    response_schemas = [\n",
    "        ResponseSchema(name=\"destination\", description=\"장소\"),\n",
    "        ResponseSchema(name=\"duration\", description=\"숙박 일시\"),\n",
    "        ResponseSchema(name=\"budget\", description=\"예산\"),\n",
    "        ResponseSchema(name=\"rating\", description=\"5점 만점에서 예상 평점\"),\n",
    "        ResponseSchema(name=\"activities\", description=\"destination에서 추천할 만한 활동 3가지를 리스트로 출력\")\n",
    "    ]\n",
    "\n",
    "    # 파서 초기화\n",
    "    parser = StructuredOutputParser.from_response_schemas(response_schemas)\n",
    "    format_instructions = parser.get_format_instructions()\n",
    "\n",
    "    template = \"\"\"\n",
    "    다음의 여행리뷰를 분석하시오: {review}\n",
    "\n",
    "    {format_instructions}\n",
    "    \"\"\"\n",
    "\n",
    "    prompt = ChatPromptTemplate.from_template(template)\n",
    "    prompt = prompt.partial(format_instructions=format_instructions)\n",
    "\n",
    "    review = input_review\n",
    "    \n",
    "    chain = prompt | model | parser\n",
    "    return chain.invoke({\"review\": review})\n",
    "\n"
   ]
  },
  {
   "cell_type": "code",
   "execution_count": 6,
   "id": "1630e9a5",
   "metadata": {},
   "outputs": [],
   "source": [
    "review =  \"\"\"\n",
    " 지난 주에 부산으로 2박 3일 여행을 다녀왔어요. 총 30만원 정도 썼는데 해운대에서 바다구경하고, 자갈치시장에서 회 먹고, 감천문화마을도 구경했어요. 정말 만족스러운 여행이었습니다. 5점 만점에 4점 정도 줄 수 있을 것 같아요.\n",
    "\"\"\""
   ]
  },
  {
   "cell_type": "code",
   "execution_count": 7,
   "id": "0f3a9d63",
   "metadata": {},
   "outputs": [
    {
     "data": {
      "text/plain": [
       "{'destination': '부산',\n",
       " 'duration': '2박 3일',\n",
       " 'budget': '30만원',\n",
       " 'rating': '4점',\n",
       " 'activities': ['해운대 바다 구경', '자갈치시장에서 신선한 회 먹기', '감천문화마을 골목 산책']}"
      ]
     },
     "execution_count": 7,
     "metadata": {},
     "output_type": "execute_result"
    }
   ],
   "source": [
    "review_parser_for_travel(review)"
   ]
  }
 ],
 "metadata": {
  "kernelspec": {
   "display_name": "mylangchain-app-SBe-Yh6W-py3.13",
   "language": "python",
   "name": "python3"
  },
  "language_info": {
   "codemirror_mode": {
    "name": "ipython",
    "version": 3
   },
   "file_extension": ".py",
   "mimetype": "text/x-python",
   "name": "python",
   "nbconvert_exporter": "python",
   "pygments_lexer": "ipython3",
   "version": "3.13.5"
  }
 },
 "nbformat": 4,
 "nbformat_minor": 5
}
