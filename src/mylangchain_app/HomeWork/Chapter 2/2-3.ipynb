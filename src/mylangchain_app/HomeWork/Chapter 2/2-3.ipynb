{
 "cells": [
  {
   "cell_type": "code",
   "execution_count": 1,
   "id": "7d3cd95b",
   "metadata": {},
   "outputs": [
    {
     "name": "stdout",
     "output_type": "stream",
     "text": [
      "gs\n"
     ]
    }
   ],
   "source": [
    "from dotenv import load_dotenv\n",
    "import os\n",
    "# .env 파일을 불러와서 환경 변수로 설정\n",
    "load_dotenv(dotenv_path='../.env')\n",
    "\n",
    "OPENAI_API_KEY = os.getenv(\"OPENAI_API_KEY\")\n",
    "print(OPENAI_API_KEY[:2])"
   ]
  },
  {
   "cell_type": "code",
   "execution_count": 3,
   "id": "71152b67",
   "metadata": {},
   "outputs": [],
   "source": [
    "from langchain_openai import ChatOpenAI\n",
    "from langchain_core.prompts import ChatPromptTemplate\n",
    "from langchain.output_parsers import PydanticOutputParser\n",
    "\n",
    "from pydantic import BaseModel, Field\n",
    "from typing import List\n",
    "from pprint import pprint"
   ]
  },
  {
   "cell_type": "code",
   "execution_count": 4,
   "id": "7806de43",
   "metadata": {},
   "outputs": [],
   "source": [
    "class IntroduceMySelf(BaseModel):\n",
    "    name: str = Field(description=\"이름\")\n",
    "    age: str = Field(description=\"나이\")\n",
    "    major: List[str] = Field(description=\"취미\")\n",
    "    goal: str = Field(description=\"이름\")\n"
   ]
  },
  {
   "cell_type": "code",
   "execution_count": null,
   "id": "9d9714e3",
   "metadata": {},
   "outputs": [],
   "source": []
  },
  {
   "cell_type": "code",
   "execution_count": null,
   "id": "17755cc3",
   "metadata": {},
   "outputs": [],
   "source": [
    "def introduce_keywords(letter):\n",
    "    parser = PydanticOutputParser(pydantic_object=IntroduceMySelf)\n",
    "    template = \"\"\"\n",
    "        다음 사용자의 자기소개에 따라 키워드를 분리해내세요\n",
    "        요청: {query}\n",
    "        {format_instructions}\n",
    "    \"\"\"\n",
    "\n",
    "    # prompt = ChatPromptTemplate.from_template(template=template)\n",
    "\n",
    "    prompt = prompt.partial(\n",
    "    format_instructions=parser.get_format_instructions()\n",
    "    )\n",
    "    \n",
    "    model = ChatOpenAI(\n",
    "    api_key=OPENAI_API_KEY,\n",
    "    base_url=\"https://api.groq.com/openai/v1\",  # Groq API 엔드포인트\n",
    "    model=\"moonshotai/kimi-k2-instruct-0905\",\n",
    "    temperature=0.7\n",
    "    )\n"
   ]
  }
 ],
 "metadata": {
  "kernelspec": {
   "display_name": "mylangchain-app-SBe-Yh6W-py3.13",
   "language": "python",
   "name": "python3"
  },
  "language_info": {
   "codemirror_mode": {
    "name": "ipython",
    "version": 3
   },
   "file_extension": ".py",
   "mimetype": "text/x-python",
   "name": "python",
   "nbconvert_exporter": "python",
   "pygments_lexer": "ipython3",
   "version": "3.13.5"
  }
 },
 "nbformat": 4,
 "nbformat_minor": 5
}
