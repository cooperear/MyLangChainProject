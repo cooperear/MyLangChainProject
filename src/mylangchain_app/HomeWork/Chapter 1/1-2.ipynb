{
 "cells": [
  {
   "cell_type": "code",
   "execution_count": null,
   "id": "fabff599",
   "metadata": {},
   "outputs": [],
   "source": []
  },
  {
   "cell_type": "code",
   "execution_count": 1,
   "id": "a51cccc8",
   "metadata": {},
   "outputs": [],
   "source": [
    "import os\n",
    "from dotenv import load_dotenv\n",
    "from langchain_core.prompts import ChatPromptTemplate\n",
    "from langchain_openai import ChatOpenAI \n",
    "\n",
    "from langchain_core.output_parsers import StrOutputParser\n",
    "import langchain\n",
    "# load_dotenv(dotenv_path='.env')\n",
    "load_dotenv()\n",
    "OPENAI_API_KEY = os.getenv(\"OPENAI_API_KEY\")\n",
    "\n"
   ]
  },
  {
   "cell_type": "code",
   "execution_count": 2,
   "id": "d0804691",
   "metadata": {},
   "outputs": [
    {
     "name": "stdout",
     "output_type": "stream",
     "text": [
      "lang chain.version : 0.3.27\n",
      "Open API Key : gsk_yRNqBi\n"
     ]
    }
   ],
   "source": [
    "print(f\"lang chain.version : {langchain.__version__}\")\n",
    "print(f\"Open API Key : {OPENAI_API_KEY[:10]}\")"
   ]
  },
  {
   "cell_type": "code",
   "execution_count": null,
   "id": "82cb3fde",
   "metadata": {},
   "outputs": [
    {
     "name": "stdout",
     "output_type": "stream",
     "text": [
      "관광 명소 추천 2단계 체인이 생성되었습니다!\n"
     ]
    }
   ],
   "source": [
    "from langchain_core.prompts import ChatPromptTemplate\n",
    "from langchain_core.output_parsers import StrOutputParser\n",
    "from langchain_openai import ChatOpenAI\n",
    "\n",
    "# LLM 설정\n",
    "llm = ChatOpenAI(\n",
    "    api_key=OPENAI_API_KEY,\n",
    "    base_url=\"https://api.groq.com/openai/v1\",\n",
    "    model=\"openai/gpt-oss-120b\",\n",
    "    temperature=0.7\n",
    ")\n",
    "\n",
    "def create_attraction_recommendation_chain():\n",
    "    \"\"\"여행지에서 대표 명소를 추천하는 체인\"\"\"\n",
    "    \n",
    "    prompt = ChatPromptTemplate.from_messages([\n",
    "        (\"system\", \"당신은 세계 각국의 관광 명소에 대해 잘 알고 있는 여행 전문가입니다.\"),\n",
    "        (\"system\", \"사용자가 입력한 도시나 국가에서 가장 대표적이고 유명한 관광 명소 1가지만 추천해주세요.\"),\n",
    "        (\"system\", \"명소의 이름만 간단하게 답변하세요. 설명은 하지 마세요.\"),\n",
    "        (\"user\", \"{destination}\")\n",
    "    ])\n",
    "    \n",
    "    return prompt | llm | StrOutputParser()\n",
    "\n",
    "def create_attraction_detail_chain():\n",
    "    \"\"\"명소에 대한 상세 정보를 제공하는 체인\"\"\"\n",
    "    \n",
    "    prompt = ChatPromptTemplate.from_messages([\n",
    "        (\"system\", \"당신은 관광 명소에 대한 상세한 정보를 제공하는 전문 가이드입니다.\"),\n",
    "        (\"system\", \"다음 형식으로 명소에 대한 정보를 제공해주세요:\"),\n",
    "        (\"system\", \"명소: [명소 이름]\"),\n",
    "        (\"system\", \"역사: [역사적 배경과 건설/형성 과정]\"),\n",
    "        (\"system\", \"특징: [주요 특징과 볼거리]\"),\n",
    "        (\"system\", \"방문 팁: [실용적인 방문 정보와 팁]\"),\n",
    "        (\"user\", \"{attraction}\")\n",
    "    ])\n",
    "    \n",
    "    return prompt | llm | StrOutputParser()\n",
    "\n",
    "\n",
    "attraction_recommendation_chain = create_attraction_recommendation_chain()\n",
    "attraction_detail_chain = create_attraction_detail_chain()\n",
    "\n",
    "print(\"관광 명소 추천 2단계 체인이 생성되었습니다!\")\n"
   ]
  },
  {
   "cell_type": "code",
   "execution_count": 8,
   "id": "ef130ef8",
   "metadata": {},
   "outputs": [
    {
     "name": "stdout",
     "output_type": "stream",
     "text": [
      "통합 여행 추천 시스템이 준비되었습니다!\n"
     ]
    }
   ],
   "source": [
    "# 두 체인을 LCEL로 연결하는 통합 함수\n",
    "def travel_recommendation_system(destination):\n",
    "    \"\"\"\n",
    "    여행지 입력받아 명소 추천 후 상세 정보 제공하는 통합 시스템\n",
    "    \"\"\"\n",
    "    print(f\"=== 여행지: {destination} ===\")\n",
    "    print()\n",
    "    \n",
    "    # 1단계: 명소 추천\n",
    "    print(\"1단계: 대표 명소 추천 중...\")\n",
    "    recommended_attraction = attraction_recommendation_chain.invoke({\"destination\": destination})\n",
    "    print(f\"추천 명소: {recommended_attraction}\")\n",
    "    print()\n",
    "    \n",
    "    # 2단계: 상세 정보 제공\n",
    "    print(\"2단계: 명소 상세 정보 조회 중...\")\n",
    "    detailed_info = attraction_detail_chain.invoke({\"attraction\": recommended_attraction})\n",
    "    print(\"상세 정보:\")\n",
    "    print(detailed_info)\n",
    "    print()\n",
    "    \n",
    "    return {\n",
    "        \"destination\": destination,\n",
    "        \"recommended_attraction\": recommended_attraction,\n",
    "        \"detailed_info\": detailed_info\n",
    "    }\n",
    "\n",
    "print(\"통합 여행 추천 시스템이 준비되었습니다!\")\n"
   ]
  },
  {
   "cell_type": "code",
   "execution_count": 9,
   "id": "d8233c62",
   "metadata": {},
   "outputs": [
    {
     "name": "stdout",
     "output_type": "stream",
     "text": [
      "============================================================\n",
      "=== 여행지: 로마 ===\n",
      "\n",
      "1단계: 대표 명소 추천 중...\n",
      "추천 명소: 콜로세움\n",
      "\n",
      "2단계: 명소 상세 정보 조회 중...\n",
      "상세 정보:\n",
      "**명소:** 콜로세움 (Colosseum, 로마 원형극장)  \n",
      "\n",
      "**역사:**  \n",
      "- **건설 시기:** 서기 72년부터 80년 사이에 로마 황제 베스파시아스와 그의 아들 티투스에 의해 건설되었습니다. 베스파시아스는 황제 네로의 화재 복구 사업의 일환으로, 대중에게 무료 오락을 제공함으로써 신임을 얻고자 했습니다.  \n",
      "- **구조와 규모:** 직경 약 189 m, 높이 약 48 m에 달하는 거대한 석재 구조물로, 약 5만 명을 수용할 수 있었습니다. 80개의 입구와 복잡한 통로(“vomitoria”)를 통해 관객이 빠르게 입·퇴장할 수 있었습니다.  \n",
      "- **용도:** 검투사 경기, 야생동물 사냥(베스티아리움), 해상 전투(초기에는 물을 채워 전함을 띄우는 ‘네우마키아’), 공개 처형 등 다양한 공개 오락이 열렸습니다.  \n",
      "- **중세 이후 변화:** 서기 5세기경 로마 제국이 몰락한 뒤, 콜로세움은 방치되었고, 12세기부터는 성벽과 방어 시설, 그리고 교회(성 마르코 교회)로 재활용되었습니다. 14~15세기에는 건축 자재(석재, 금속) 절도꾼들이 ‘스파르타클라’라 불리는 채석장으로 사용했습니다.  \n",
      "- **보존과 복원:** 18세기부터는 고대 로마 유산에 대한 관심이 높아지며 복원 작업이 진행됐고, 1990년대와 2000년대에는 국제적인 보존 프로젝트가 진행되어 현재는 UNESCO 세계문화유산(1980년)으로 등재되어 있습니다.  \n",
      "\n",
      "**특징:**  \n",
      "1. **건축 기술:** 로마식 콘크리트와 아치, 볼트(돔) 구조를 결합한 뛰어난 공학적 설계. 트라베르스(Trabeated)와 아치가 조화돼 무게를 효율적으로 분산합니다.  \n",
      "2. **복합 구조:** 지하에 ‘하이포가우스(Hypogeum)’라 불리는 복층 지하실이 있어 검투사와 동물, 무대 장치가 이동·출입할 수 있었습니다. 현대에 복원된 하이포가우스는 관람객에게 개방되어 있습니다.  \n",
      "3. **시각적 스케일:** 외부는 80개의 아치가 4층(아치, 오벨리스크, 상단 아치, 위층 아치)으로 배열돼 있어, 원형 경기장의 위용을 한눈에 볼 수 있습니다.  \n",
      "4. **문화적 상징성:** 로마 제국의 힘과 엔터테인먼트 문화, 그리고 오늘날 인류가 고대 유산을 보존하려는 의지를 상징합니다. 영화·드라마·음악 비디오 등에 자주 등장해 전 세계 관광객에게 친숙합니다.  \n",
      "\n",
      "**방문 팁:**  \n",
      "- **입장권 예약:** 공식 웹사이트(https://www.coopculture.it)에서 **‘시간 지정 입장권(시간 슬롯)’**을 사전 예약하는 것이 가장 효율적입니다. 현장 구매는 긴 대기열(30~60분)과 입장 제한(시간당 인원 제한)으로 인해 비추천합니다.  \n",
      "- **조기 방문:** 개장 시간인 **오전 8시**에 맞춰 입장하면 인파가 적고, 특히 여름철에는 오전 9시 이전이 가장 쾌적합니다.  \n",
      "- **복합 티켓 활용:** 콜로세움, 포럼 로마노, 팔라티노 언덕을 포함한 **‘로마 고대 유적 복합 티켓’**을 구입하면 비용 절감과 함께 연속 관람이 가능합니다.  \n",
      "- **오디오 가이드/앱:** 공식 오디오 가이드(다국어, 5~10유로) 또는 ‘Rome2rio’, ‘Rick Steves Audio Europe’ 같은 무료 앱을 활용하면 하이포가우스와 건축 구조에 대한 상세 해설을 들을 수 있습니다.  \n",
      "- **복장·신발:** 경기장은 돌바닥이고 일부 구역은 경사진 계단이 있으므로, **편안한 운동화**와 **가벼운 옷**을 착용하세요. 여름에는 햇빛이 강하니 모자·선크림·물병을 챙기세요.  \n",
      "- **사진 촬영:** 내부는 플래시 금지이며, 일부 구역은 사진 촬영이 제한됩니다. 외부 전경은 일출·일몰 시간에 조명이 아름다우니, **일출 전후** 혹은 **해질 무렵**에 방문하면 멋진 사진을 남길 수 있습니다.  \n",
      "- **관람 시간:** 하이포가우스 투어는 별도 시간표가 있으니, 입장 전 혹은 입장 후 **30~45분** 정도를 할애해 예약해 두세요.  \n",
      "- **주변 시설:** 콜로세움 바로 옆에 **‘라테라노 시장(Laterano Market)’**과 **‘카피톨리노 박물관’**이 있어, 관람 후 간단히 식사하거나 로마 역사를 더 깊게 탐구할 수 있습니다.  \n",
      "- **교통:** 지하철 **B선 ‘콜로세움(Colosseo)’ 역**이 바로 앞에 있으며, 버스 75, 81, 673 등도 정차합니다. 택시·공유 모빌리티는 교통 체증이 심하니 피하는 것이 좋습니다.  \n",
      "\n",
      "콜로세움은 단순한 관광 명소를 넘어, 고대 로마인의 삶과 기술, 그리고 현대 보존 노력의 결합을 체험할 수 있는 특별한 장소입니다. 즐거운 방문 되시길 바랍니다!\n",
      "\n"
     ]
    }
   ],
   "source": [
    "# 로마 테스트 (예상 결과: 콜로세움)\n",
    "print(\"=\" * 60)\n",
    "result1 = travel_recommendation_system(\"로마\")\n"
   ]
  },
  {
   "cell_type": "code",
   "execution_count": null,
   "id": "86951e31",
   "metadata": {},
   "outputs": [],
   "source": []
  },
  {
   "cell_type": "code",
   "execution_count": null,
   "id": "38ab0b72",
   "metadata": {},
   "outputs": [],
   "source": [
    "\n"
   ]
  },
  {
   "cell_type": "code",
   "execution_count": null,
   "id": "d25d5fc0",
   "metadata": {},
   "outputs": [],
   "source": []
  },
  {
   "cell_type": "code",
   "execution_count": null,
   "id": "33a6dbb3",
   "metadata": {},
   "outputs": [],
   "source": [
    "\n"
   ]
  },
  {
   "cell_type": "code",
   "execution_count": null,
   "id": "3098d554",
   "metadata": {},
   "outputs": [],
   "source": [
    "\n"
   ]
  }
 ],
 "metadata": {
  "kernelspec": {
   "display_name": "mylangchain-app-SBe-Yh6W-py3.13",
   "language": "python",
   "name": "python3"
  },
  "language_info": {
   "codemirror_mode": {
    "name": "ipython",
    "version": 3
   },
   "file_extension": ".py",
   "mimetype": "text/x-python",
   "name": "python",
   "nbconvert_exporter": "python",
   "pygments_lexer": "ipython3",
   "version": "3.13.5"
  }
 },
 "nbformat": 4,
 "nbformat_minor": 5
}
