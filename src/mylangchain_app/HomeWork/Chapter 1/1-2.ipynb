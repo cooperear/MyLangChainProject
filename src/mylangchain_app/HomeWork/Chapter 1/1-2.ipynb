{
 "cells": [
  {
   "cell_type": "code",
   "execution_count": null,
   "id": "fabff599",
   "metadata": {},
   "outputs": [],
   "source": []
  },
  {
   "cell_type": "code",
   "execution_count": 10,
   "id": "a51cccc8",
   "metadata": {},
   "outputs": [],
   "source": [
    "import os\n",
    "from dotenv import load_dotenv\n",
    "from langchain_core.prompts import ChatPromptTemplate\n",
    "from langchain_openai import ChatOpenAI \n",
    "\n",
    "from langchain_core.output_parsers import StrOutputParser\n",
    "import langchain\n",
    "# load_dotenv(dotenv_path='.env')\n",
    "load_dotenv()\n",
    "OPENAI_API_KEY = os.getenv(\"OPENAI_API_KEY\")\n",
    "\n"
   ]
  },
  {
   "cell_type": "code",
   "execution_count": 11,
   "id": "d0804691",
   "metadata": {},
   "outputs": [
    {
     "name": "stdout",
     "output_type": "stream",
     "text": [
      "lang chain.version : 0.3.27\n",
      "Open API Key : gsk_yRNqBi\n"
     ]
    }
   ],
   "source": [
    "print(f\"lang chain.version : {langchain.__version__}\")\n",
    "print(f\"Open API Key : {OPENAI_API_KEY[:10]}\")"
   ]
  },
  {
   "cell_type": "code",
   "execution_count": 12,
   "id": "82cb3fde",
   "metadata": {},
   "outputs": [
    {
     "name": "stdout",
     "output_type": "stream",
     "text": [
      "관광 명소 추천 2단계 체인이 생성되었습니다!\n"
     ]
    }
   ],
   "source": [
    "from langchain_core.prompts import ChatPromptTemplate\n",
    "from langchain_core.output_parsers import StrOutputParser\n",
    "from langchain_openai import ChatOpenAI\n",
    "\n",
    "# LLM 설정\n",
    "llm = ChatOpenAI(\n",
    "    api_key=OPENAI_API_KEY,\n",
    "    base_url=\"https://api.groq.com/openai/v1\",\n",
    "    model=\"openai/gpt-oss-120b\",\n",
    "    temperature=0.7\n",
    ")\n",
    "\n",
    "def create_attraction_recommendation_chain():\n",
    "    \"\"\"여행지에서 대표 명소를 추천하는 체인\"\"\"\n",
    "    \n",
    "    prompt = ChatPromptTemplate.from_messages([\n",
    "        (\"system\", \"당신은 세계 각국의 관광 명소에 대해 잘 알고 있는 여행 전문가입니다.\"),\n",
    "        (\"system\", \"사용자가 입력한 도시나 국가에서 가장 대표적이고 유명한 관광 명소 1가지만 추천해주세요.\"),\n",
    "        (\"system\", \"명소의 이름만 간단하게 답변하세요. 설명은 하지 마세요.\"),\n",
    "        (\"user\", \"{destination}\")\n",
    "    ])\n",
    "    \n",
    "    return prompt | llm | StrOutputParser()\n",
    "\n",
    "def create_attraction_detail_chain():\n",
    "    \"\"\"명소에 대한 상세 정보를 제공하는 체인\"\"\"\n",
    "    \n",
    "    prompt = ChatPromptTemplate.from_messages([\n",
    "        (\"system\", \"당신은 관광 명소에 대한 상세한 정보를 제공하는 전문 가이드입니다.\"),\n",
    "        (\"system\", \"다음 형식으로 명소에 대한 정보를 제공해주세요:\"),\n",
    "        (\"system\", \"명소: [명소 이름]\"),\n",
    "        (\"system\", \"역사: [역사적 배경과 건설/형성 과정]\"),\n",
    "        (\"system\", \"특징: [주요 특징과 볼거리]\"),\n",
    "        (\"system\", \"방문 팁: [실용적인 방문 정보와 팁]\"),\n",
    "        (\"user\", \"{attraction}\")\n",
    "    ])\n",
    "    \n",
    "    return prompt | llm | StrOutputParser()\n",
    "\n",
    "\n",
    "attraction_recommendation_chain = create_attraction_recommendation_chain()\n",
    "attraction_detail_chain = create_attraction_detail_chain()\n",
    "\n",
    "print(\"관광 명소 추천 2단계 체인이 생성되었습니다!\")\n"
   ]
  },
  {
   "cell_type": "code",
   "execution_count": 13,
   "id": "ef130ef8",
   "metadata": {},
   "outputs": [
    {
     "name": "stdout",
     "output_type": "stream",
     "text": [
      "통합 여행 추천 시스템이 준비되었습니다!\n"
     ]
    }
   ],
   "source": [
    "# 두 체인을 LCEL로 연결하는 통합 함수\n",
    "\n",
    "\n",
    "print(\"통합 여행 추천 시스템이 준비되었습니다!\")\n"
   ]
  },
  {
   "cell_type": "code",
   "execution_count": 15,
   "id": "d8233c62",
   "metadata": {},
   "outputs": [
    {
     "name": "stdout",
     "output_type": "stream",
     "text": [
      "=== 여행지: 블라디보스톡 ===\n",
      "\n",
      "1단계: 대표 명소 추천 중...\n",
      "추천 명소: Zolotoy Bridge (Golden Horn Bridge)\n",
      "\n",
      "2단계: 명소 상세 정보 조회 중...\n",
      "상세 정보:\n",
      "**명소:** 졸로토이 브리지 (Zolotoy Bridge) – “골든 호른 브리지”  \n",
      "\n",
      "---\n",
      "\n",
      "### 역사\n",
      "- **건설 배경:** 2000년대 초반, 러시아 극동 연해주 블라디보스토크의 교통 정체와 섬·반도 간 연결 문제를 해결하고 도시 이미지 제고를 위해 대규모 인프라 사업의 일환으로 계획되었습니다.  \n",
      "- **설계·시공:** 러시아의 설계 사무소와 중국의 건설 기업이 공동으로 참여했으며, 총 공사 기간은 2009년~2012년.  \n",
      "- **완공 및 개통:** 2012년 11월 30일에 공식 개통했으며, 블라디보스토크의 랜드마크이자 “동해의 금빛 다리”라는 별명을 얻었습니다.  \n",
      "\n",
      "---\n",
      "\n",
      "### 특징\n",
      "- **구조:** 전형적인 사장(斜拉) 교량으로, 총 길이 1,652 m, 주경간 737 m, 폭 35 m. 1,100 톤 이상의 강철 케이블이 12개의 사장 타워에 연결돼 견고하면서도 아름다운 실루엣을 형성합니다.  \n",
      "- **조명:** 야간에는 LED 조명이 설치돼 파란색, 은색, 금색 등 다양한 색상으로 변환되며, 특별 행사 시에는 맞춤형 조명 쇼가 진행됩니다.  \n",
      "- **전망:** 다리 위에서 바라보는 블라디보스토크 해안선, 금빛 항구(Golden Horn), 그리고 시가지 전경은 사진가와 관광객에게 인기 있는 포토 스팟입니다.  \n",
      "- **교통:** 6차선 도로와 보행자·자전거 전용 보도가 동시에 마련돼 차량과 보행자 모두 안전하게 이용할 수 있습니다.  \n",
      "- **기술적 성과:** 러시아 최장 사장 교량이자, 극동 지역 최초의 대형 사장 교량으로, 내진·내풍 설계가 적용돼 강풍과 지진에 강합니다.  \n",
      "\n",
      "---\n",
      "\n",
      "### 방문 팁\n",
      "1. **위치 & 접근**\n",
      "   - **주소:** 러시아 연해주 블라디보스토크, 금빛 항구(Golden Horn) 인근  \n",
      "   - **대중교통:** 블라디보스토크 중심가(플라자)에서 버스 5, 15번을 타고 “Zolotoy Bridge” 정류장 하차 (약 15분 소요).  \n",
      "   - **주차:** 다리 남쪽에 있는 “Golden Horn Parking” (유료, 2시간당 200 RUB) 이용 가능.\n",
      "\n",
      "2. **베스트 타임**\n",
      "   - **일출:** 6시~7시경, 해가 떠오르며 다리와 항구가 금빛으로 물드는 순간.  \n",
      "   - **일몰·야경:** 19시~20시경, 조명이 켜지기 전후에 다리와 주변 건물의 실루엣이 가장 아름답습니다.  \n",
      "   - **주말:** 현지인과 관광객이 많이 모이니, 평일 오전 9시~11시가 비교적 한산합니다.\n",
      "\n",
      "3. **관람 포인트**\n",
      "   - **보행자 전용 보도:** 다리 중앙에 위치한 보행자 전용 구역을 이용해 천천히 걸으며 파노라마 뷰를 즐기세요.  \n",
      "   - **사진 촬영:** 다리 양쪽에 작은 전망대가 있어, 특히 북쪽 쪽(시내 전망)에서 촬영하면 항구와 다리 전체를 한 장에 담을 수 있습니다.  \n",
      "   - **인근 명소 연계:** 다리에서 도보 10분 거리의 “Vladivostok Fortress”, “Marine Museum”, “Soviet Shipyard” 등을 함께 둘러보면 여행 코스가 풍성해집니다.\n",
      "\n",
      "4. **주의사항**\n",
      "   - **날씨:** 블라디보스토크는 바람이 강한 편이니, 겨울에는 방한복과 방풍 장비를 준비하세요.  \n",
      "   - **보행자 안전:** 다리 위는 차량이 통행하므로 보행자 전용 구역을 반드시 이용하고, 차도에 진입하지 않도록 주의합니다.  \n",
      "   - **입장료:** 다리 자체는 무료이지만, 인근 전망대와 박물관은 별도 입장료가 있을 수 있습니다.\n",
      "\n",
      "5. **추천 식음료**\n",
      "   - **근처 카페:** “Golden Horn Café” (다리 바로 아래)에서 러시아식 베이글·커피, 해산물 스프를 즐기면 전망과 함께 여유로운 휴식이 가능합니다.  \n",
      "   - **현지 간식:** 거리에서 파는 “피시 스키르(피시 케밥)”와 “블라디보스토크 맥주”는 현지 분위기를 체험하기에 좋습니다.\n",
      "\n",
      "---\n",
      "\n",
      "**한 줄 요약**  \n",
      "졸로토이 브리지는 블라디보스토크 항구를 가로지르는 현대적인 사장 교량으로, 멋진 야경과 파노라마 뷰, 그리고 편리한 접근성을 갖춘 도시의 대표적인 사진 명소입니다. 일출·일몰 시간에 방문하면 금빛 다리와 바다, 시내가 어우러진 환상적인 풍경을 감상할 수 있습니다.\n",
      "\n"
     ]
    }
   ],
   "source": [
    "\n",
    "attraction_recommendation_chain = create_attraction_recommendation_chain()\n",
    "attraction_detail_chain = create_attraction_detail_chain()\n",
    "\n",
    "\n",
    "result1 = travel_recommendation_system(\"블라디보스톡\")\n"
   ]
  },
  {
   "cell_type": "code",
   "execution_count": null,
   "id": "86951e31",
   "metadata": {},
   "outputs": [],
   "source": []
  },
  {
   "cell_type": "code",
   "execution_count": null,
   "id": "38ab0b72",
   "metadata": {},
   "outputs": [],
   "source": [
    "\n"
   ]
  },
  {
   "cell_type": "code",
   "execution_count": null,
   "id": "d25d5fc0",
   "metadata": {},
   "outputs": [],
   "source": []
  },
  {
   "cell_type": "code",
   "execution_count": null,
   "id": "33a6dbb3",
   "metadata": {},
   "outputs": [],
   "source": [
    "\n"
   ]
  },
  {
   "cell_type": "code",
   "execution_count": null,
   "id": "3098d554",
   "metadata": {},
   "outputs": [],
   "source": [
    "\n"
   ]
  }
 ],
 "metadata": {
  "kernelspec": {
   "display_name": "mylangchain-app-SBe-Yh6W-py3.13",
   "language": "python",
   "name": "python3"
  },
  "language_info": {
   "codemirror_mode": {
    "name": "ipython",
    "version": 3
   },
   "file_extension": ".py",
   "mimetype": "text/x-python",
   "name": "python",
   "nbconvert_exporter": "python",
   "pygments_lexer": "ipython3",
   "version": "3.13.5"
  }
 },
 "nbformat": 4,
 "nbformat_minor": 5
}
