{
 "cells": [
  {
   "cell_type": "code",
   "execution_count": null,
   "id": "bff950b1",
   "metadata": {},
   "outputs": [],
   "source": []
  },
  {
   "cell_type": "code",
   "execution_count": 16,
   "id": "d5a7caa7",
   "metadata": {},
   "outputs": [],
   "source": [
    "import os\n",
    "from dotenv import load_dotenv\n",
    "from langchain_core.prompts import ChatPromptTemplate\n",
    "from langchain_openai import ChatOpenAI \n",
    "\n",
    "from langchain_core.output_parsers import StrOutputParser\n",
    "import langchain\n",
    "# load_dotenv(dotenv_path='.env')\n",
    "load_dotenv()\n",
    "OPENAI_API_KEY = os.getenv(\"OPENAI_API_KEY\")\n"
   ]
  },
  {
   "cell_type": "code",
   "execution_count": 45,
   "id": "4ca8c181",
   "metadata": {},
   "outputs": [],
   "source": [
    "from langchain_core.prompts import  FewShotChatMessagePromptTemplate,  ChatPromptTemplate\n",
    "\n",
    "from langchain_openai import ChatOpenAI\n",
    "\n",
    "def keyword_maker(letters):\n",
    "    llm = ChatOpenAI(\n",
    "    api_key=OPENAI_API_KEY,\n",
    "    base_url=\"https://api.groq.com/openai/v1\",\n",
    "    model=\"openai/gpt-oss-120b\",\n",
    "    temperature=0.7\n",
    "    )\n",
    "    \n",
    "    examples = [\n",
    "        {\n",
    "            \"news\": \"삼성전자가 AI 가속기를 출시할 예정이다.\",\n",
    "            \"keywords\": \"삼성전자, AI가속기, 출시\"\n",
    "        },\n",
    "        {\n",
    "            \"news\": \"WHO가 국제 협력의 중요성을 강조했다.\",\n",
    "            \"keywords\": \"WHO, 국제협력, 보건\"\n",
    "        }\n",
    "    ]\n",
    "\n",
    "    example_prompt = ChatPromptTemplate.from_messages([\n",
    "        (\"human\", \"{news}\"),\n",
    "        (\"ai\", \"키워드: {keywords}\")\n",
    "    ])\n",
    "\n",
    "    few_shot_prompt = FewShotChatMessagePromptTemplate(\n",
    "    example_prompt=example_prompt,\n",
    "    examples=examples,\n",
    "    )\n",
    "    final_prompt = ChatPromptTemplate.from_messages([\n",
    "    (\"system\", \"뉴스 키워드 추출 전문가입니다. 핵심 키워드 3개를 추출하세요.\"),\n",
    "    few_shot_prompt,\n",
    "    (\"human\", \"{letters}\")\n",
    "])\n",
    "\n",
    "    return( final_prompt | llm | StrOutputParser()).invoke({\"letters\": \", \".join(letters)})\n",
    "  "
   ]
  },
  {
   "cell_type": "code",
   "execution_count": 46,
   "id": "caed4a53",
   "metadata": {},
   "outputs": [
    {
     "name": "stdout",
     "output_type": "stream",
     "text": [
      "키워드: 이진숙, 법인카드 부정사용, 검찰 송치\n"
     ]
    }
   ],
   "source": [
    "print(keyword_maker(\"경찰이 ‘법인카드 부정사용’ 혐의를 받는 이진숙 방송통신위원장에 대한 수사를 마무리하고 검찰로 사건을 송치했다.\"))"
   ]
  },
  {
   "cell_type": "code",
   "execution_count": 47,
   "id": "0e67ee61",
   "metadata": {},
   "outputs": [
    {
     "name": "stdout",
     "output_type": "stream",
     "text": [
      "키워드: 딥러닝, 복잡한 모델, 배포\n"
     ]
    }
   ],
   "source": [
    "print(keyword_maker(\"우리가 딥러닝을 활용해 인공지능 예측 서비스를 만든다고 가정해봅시다. 연구 및 개발을 통해 만들어진 딥러닝 모델은 다량의 데이터와 복잡한 모델을 구성하여 최고의 정확도를 내도록 설계되었을 것입니다. 하지만 모델을 실제 서비스로 배포한다고 생각했을 때, 이 복잡한 모델은 사용자들에게 적합하지 않을 수 있습니다. 아래 슬라이드처럼 모델이 배포된 모바일 장치는 (복잡한 모델이 작동하는데 필요한) 강력한 하드웨어가 아니기 때문입니다.\"))"
   ]
  }
 ],
 "metadata": {
  "kernelspec": {
   "display_name": "mylangchain-app-SBe-Yh6W-py3.13",
   "language": "python",
   "name": "python3"
  },
  "language_info": {
   "codemirror_mode": {
    "name": "ipython",
    "version": 3
   },
   "file_extension": ".py",
   "mimetype": "text/x-python",
   "name": "python",
   "nbconvert_exporter": "python",
   "pygments_lexer": "ipython3",
   "version": "3.13.5"
  }
 },
 "nbformat": 4,
 "nbformat_minor": 5
}
