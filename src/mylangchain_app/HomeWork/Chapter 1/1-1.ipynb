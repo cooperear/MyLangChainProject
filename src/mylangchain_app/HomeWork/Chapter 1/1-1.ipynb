{
 "cells": [
  {
   "cell_type": "code",
   "execution_count": null,
   "id": "a3b487cd",
   "metadata": {},
   "outputs": [
    {
     "name": "stdout",
     "output_type": "stream",
     "text": [
      "gsk_yRNqBi\n"
     ]
    }
   ],
   "source": [
    "import os\n",
    "from dotenv import load_dotenv\n",
    "from langchain_core.prompts import ChatPromptTemplate\n",
    "from langchain_openai import ChatOpenAI \n",
    "\n",
    "from langchain_core.output_parsers import StrOutputParser\n",
    "import langchain\n",
    "# load_dotenv(dotenv_path='.env')\n",
    "load_dotenv()\n",
    "OPENAI_API_KEY = os.getenv(\"OPENAI_API_KEY\")\n",
    "\n"
   ]
  },
  {
   "cell_type": "code",
   "execution_count": 75,
   "id": "60c9ff28",
   "metadata": {},
   "outputs": [
    {
     "name": "stdout",
     "output_type": "stream",
     "text": [
      "lang chain.version : 0.3.27\n",
      "Open API Key : gsk_yRNqBi\n"
     ]
    }
   ],
   "source": [
    "print(f\"lang chain.version : {langchain.__version__}\")\n",
    "print(f\"Open API Key : {OPENAI_API_KEY[:10]}\")"
   ]
  },
  {
   "cell_type": "code",
   "execution_count": 84,
   "id": "5675710a",
   "metadata": {},
   "outputs": [],
   "source": [
    "from langchain_core.prompts import ChatPromptTemplate, FewShotChatMessagePromptTemplate\n",
    "from langchain_core.output_parsers import StrOutputParser\n",
    "from langchain_openai import ChatOpenAI\n",
    "\n",
    "\n",
    "def ai_cook(matterials):\n",
    "\n",
    "    llm = ChatOpenAI(\n",
    "        api_key=OPENAI_API_KEY,\n",
    "        base_url=\"https://api.groq.com/openai/v1\",  # Groq API 엔드포인트\n",
    "        # model=\"meta-llama/llama-4-scout-17b-16e-instruct\",  # Spring AI와 동일한 모델\n",
    "        model=\"openai/gpt-oss-120b\",\n",
    "        temperature=0.7\n",
    "    )\n",
    "\n",
    "    \n",
    "    example_prompt = ChatPromptTemplate.from_messages([\n",
    "        (\"human\", \"{input}\"),\n",
    "        (\"ai\", \"{output}\"),\n",
    "    ])\n",
    "    \n",
    "    few_shot_prompt = FewShotChatMessagePromptTemplate(\n",
    "        example_prompt=example_prompt,\n",
    "        examples=[\n",
    "            {\n",
    "                \"input\": \"계란, 밥, 참기름, 간장\",\n",
    "                \"output\": (\n",
    "                    \"계란과 밥, 참기름, 간장으로 만들 수 있는 요리\\n\"\n",
    "                    \"재료 : 계란, 밥, 참기름, 간장\\n\"\n",
    "                    \"추천요리 : 간장계란밥 \\n\"\n",
    "                    \"조리법:\\n\"\n",
    "                    \"1. 팬에 기름을 두르고 계란을 구워주세요\\n\"\n",
    "                    \"2. 넓은 대접에 밥을 넣고, 1번을 넣으세요\\n\"\n",
    "                    \"3. 2번에 간장과 참기름을 넣고 비비세요\"\n",
    "                ),\n",
    "            }\n",
    "        ]\n",
    "    )\n",
    "\n",
    "    \n",
    "    prompt = ChatPromptTemplate.from_messages([\n",
    "        (\"system\", \"당신은 주어진 재료로 요리 레시피를 만들 수 있는 요리사입니다\"),\n",
    "        (\"system\", \"재료, 추천요리, 조리법만 표시하세요\"),\n",
    "        (\"system\", \"입력 값의 언어로 레시피를 작성하세요\"),\n",
    "        \n",
    "        few_shot_prompt,\n",
    "        (\"human\", \"{matterials}\"),\n",
    "    ])\n",
    "\n",
    "    \n",
    "    return (prompt | llm | StrOutputParser()).invoke({\"matterials\": \", \".join(matterials)})"
   ]
  },
  {
   "cell_type": "code",
   "execution_count": 85,
   "id": "945193e0",
   "metadata": {},
   "outputs": [
    {
     "name": "stdout",
     "output_type": "stream",
     "text": [
      "재료 : 딸기, 얼음, 우유  \n",
      "추천요리 : 딸기우유 스무디  \n",
      "조리법:  \n",
      "1. 딸기를 깨끗이 씻어 꼭지를 제거하고 작게 썰어 주세요.  \n",
      "2. 믹서기에 딸기, 얼음(한 줌), 우유(200 ml)를 넣습니다.  \n",
      "3. 부드럽게 갈릴 때까지 30~40초 정도 갈아 주세요.  \n",
      "4. 컵에 따라 내고, 원한다면 꿀이나 설탕으로 단맛을 조절합니다.  \n"
     ]
    }
   ],
   "source": [
    "recipe = ai_cook([\"딸기\",\"얼음\",\"우유\"])\n",
    "print(recipe)"
   ]
  },
  {
   "cell_type": "code",
   "execution_count": 86,
   "id": "7ec0caf8",
   "metadata": {},
   "outputs": [
    {
     "name": "stdout",
     "output_type": "stream",
     "text": [
      "재료 : 돼지고기, 밥, 청고추, 고수, 동남아풍 향신 채소(레몬그라스·라임잎·갈랑갈 등), 식용유, 소금, 설탕, 피시소스, 라임즙  \n",
      "\n",
      "추천요리 : 동남아식 고추 돼지고기 볶음밥  \n",
      "\n",
      "조리법  \n",
      "1. 돼지고기는 한 입 크기로 썰어 소금·설탕·피시소스 1큰술에 10분 정도 재워둔다.  \n",
      "2. 팬에 식용유를 두르고 다진 레몬그라스와 라임잎을 약 30초간 볶아 향을 낸다.  \n",
      "3. 재워둔 돼지고기를 넣고 중불에서 색이 변할 때까지 볶는다.  \n",
      "4. 청고추를 얇게 썰어 넣고 1분 정도 더 볶아 매운맛을 낸다.  \n",
      "5. 밥을 넣고 고기가 골고루 섞이도록 빠르게 뒤섞으며 볶는다.  \n",
      "6. 라임즙 1작은술과 피시소스 추가로 간을 맞추고, 고수를 크게 다져 넣어 섞는다.  \n",
      "7. 불을 끄고 그릇에 담아 남은 고수와 청고추를 고명으로 올려 완성한다.\n"
     ]
    }
   ],
   "source": [
    "recipe = ai_cook([\"돼지고기\",\"밥\",\"청고추\",\"고수\",\"동남아풍 향신 채소\"])\n",
    "print(recipe)"
   ]
  },
  {
   "cell_type": "code",
   "execution_count": 87,
   "id": "7cabae5a",
   "metadata": {},
   "outputs": [
    {
     "name": "stdout",
     "output_type": "stream",
     "text": [
      "재료 : 배, 사과, 간장, 소고기 갈빗살, 홍고추, 설탕  \n",
      "추천요리 : 과일 간장 매운 소고기 갈비볶음  \n",
      "조리법:\n",
      "1. 배와 사과를 껍질을 벗기고 얇게 슬라이스한 뒤, 설탕 1큰술을 넣고 5분 정도 살짝 졸여서 달콤한 과일즙을 만든다.  \n",
      "2. 소고기 갈빗살은 얇게 썰어 간장 2큰술, 설탕 1큰술, 다진 홍고추 1개(취향에 따라 양 조절)와 함께 15분간 재워 둔다.  \n",
      "3. 팬에 참기름(또는 식용유) 약간을 두르고, 재워 둔 소고기를 센 불에 빠르게 볶아 겉이 익을 때까지 익힌다.  \n",
      "4. 고기가 반쯤 익으면 준비한 과일 슬라이스와 남은 과일즙을 넣고, 간장 1큰술을 추가로 넣어 간을 맞춘다.  \n",
      "5. 모든 재료가 골고루 섞이고 소스가 살짝 졸아들면 불을 끄고, 접시에 담아 남은 홍고추를 얇게 썰어 고명으로 올린다.  \n"
     ]
    }
   ],
   "source": [
    "recipe = ai_cook([\"배\",\"사과\",\"간장\",\"소고기 갈빗살\",\"홍고추\",\"설탕\"])\n",
    "print(recipe)"
   ]
  },
  {
   "cell_type": "code",
   "execution_count": 88,
   "id": "f216ecb5",
   "metadata": {},
   "outputs": [
    {
     "name": "stdout",
     "output_type": "stream",
     "text": [
      "材料: 人参, ジャガイモ, 牛肉, カレースープ, バター  \n",
      "おすすめ料理: ビーフカレー炒めごはん  \n",
      "作り方:  \n",
      "1. 人参とジャガイモは一口大に切り、牛肉も同様に切る。  \n",
      "2. フライパンにバターを熱し、牛肉を炒めて色が変わったら取り出す。  \n",
      "3. 同じフライパンで人参とジャガイモを中火で炒め、全体に油が回ったらカレースープを加える。  \n",
      "4. 野菜が柔らかくなるまで煮込み、牛肉を戻し入れてさらに1分ほど煮る。  \n",
      "5. 炊いたご飯をフライパンに加え、全体をよく混ぜ合わせて味をなじませたら完成。\n"
     ]
    }
   ],
   "source": [
    "print(ai_cook([\"人参\",\"ジャガイモ\",\"牛肉\",\"カレースープ\",\"バター\"]))"
   ]
  }
 ],
 "metadata": {
  "kernelspec": {
   "display_name": "mylangchain-app-SBe-Yh6W-py3.13",
   "language": "python",
   "name": "python3"
  },
  "language_info": {
   "codemirror_mode": {
    "name": "ipython",
    "version": 3
   },
   "file_extension": ".py",
   "mimetype": "text/x-python",
   "name": "python",
   "nbconvert_exporter": "python",
   "pygments_lexer": "ipython3",
   "version": "3.13.5"
  }
 },
 "nbformat": 4,
 "nbformat_minor": 5
}
