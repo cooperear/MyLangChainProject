{
 "cells": [
  {
   "cell_type": "code",
   "execution_count": 1,
   "id": "a3b487cd",
   "metadata": {},
   "outputs": [],
   "source": [
    "import os\n",
    "from dotenv import load_dotenv\n",
    "from langchain_core.prompts import ChatPromptTemplate\n",
    "from langchain_openai import ChatOpenAI \n",
    "\n",
    "from langchain_core.output_parsers import StrOutputParser\n",
    "import langchain\n",
    "# load_dotenv(dotenv_path='.env')\n",
    "load_dotenv()\n",
    "OPENAI_API_KEY = os.getenv(\"OPENAI_API_KEY\")\n",
    "\n"
   ]
  },
  {
   "cell_type": "code",
   "execution_count": 2,
   "id": "60c9ff28",
   "metadata": {},
   "outputs": [
    {
     "name": "stdout",
     "output_type": "stream",
     "text": [
      "lang chain.version : 0.3.27\n",
      "Open API Key : gsk_yRNqBi\n"
     ]
    }
   ],
   "source": [
    "print(f\"lang chain.version : {langchain.__version__}\")\n",
    "print(f\"Open API Key : {OPENAI_API_KEY[:10]}\")"
   ]
  },
  {
   "cell_type": "code",
   "execution_count": 7,
   "id": "5675710a",
   "metadata": {},
   "outputs": [],
   "source": [
    "from langchain_core.prompts import ChatPromptTemplate, FewShotChatMessagePromptTemplate\n",
    "from langchain_core.output_parsers import StrOutputParser\n",
    "from langchain_openai import ChatOpenAI\n",
    "\n",
    "\n",
    "def ai_cook(matterials):\n",
    "\n",
    "    llm = ChatOpenAI(\n",
    "        api_key=OPENAI_API_KEY,\n",
    "        base_url=\"https://api.groq.com/openai/v1\",  # Groq API 엔드포인트\n",
    "        # model=\"meta-llama/llama-4-scout-17b-16e-instruct\",  # Spring AI와 동일한 모델\n",
    "        model=\"openai/gpt-oss-120b\",\n",
    "        temperature=0.7\n",
    "    )\n",
    "\n",
    "    \n",
    "    example_prompt = ChatPromptTemplate.from_messages([\n",
    "        (\"human\", \"{input}\"),\n",
    "        (\"ai\", \"{output}\"),\n",
    "    ])\n",
    "    \n",
    "    few_shot_prompt = FewShotChatMessagePromptTemplate(\n",
    "        example_prompt=example_prompt,\n",
    "        examples=[\n",
    "            {\n",
    "                \"input\": \"계란, 밥, 참기름, 간장\",\n",
    "                \"output\": (\n",
    "                    \"계란과 밥, 참기름, 간장으로 만들 수 있는 요리\\n\"\n",
    "                    \"재료 : 계란, 밥, 참기름, 간장\\n\"\n",
    "                    \"추천요리 : 간장계란밥 \\n\"\n",
    "                    \"조리법:\\n\"\n",
    "                    \"1. 팬에 기름을 두르고 계란을 구워주세요\\n\"\n",
    "                    \"2. 넓은 대접에 밥을 넣고, 1번을 넣으세요\\n\"\n",
    "                    \"3. 2번에 간장과 참기름을 넣고 비비세요\"\n",
    "                ),\n",
    "            }\n",
    "        ]\n",
    "    )\n",
    "\n",
    "    \n",
    "    prompt = ChatPromptTemplate.from_messages([\n",
    "        (\"system\", \"당신은 주어진 재료로 요리 레시피를 만들 수 있는 요리사입니다\"),\n",
    "        (\"system\", \"재료, 추천요리, 조리법만 표시하세요\"),\n",
    "        (\"system\", \"입력 값의 언어로 레시피를 작성하세요\"),\n",
    "        (\"system\", \"물,설탕,소금,기름 종류는 기본적으로 사용 가능합니다.\"),\n",
    "        \n",
    "        few_shot_prompt,\n",
    "        (\"human\", \"{matterials}\"),\n",
    "    ])\n",
    "\n",
    "    \n",
    "    return (prompt | llm | StrOutputParser()).invoke({\"matterials\": \", \".join(matterials)})"
   ]
  },
  {
   "cell_type": "code",
   "execution_count": 9,
   "id": "945193e0",
   "metadata": {},
   "outputs": [
    {
     "name": "stdout",
     "output_type": "stream",
     "text": [
      "재료 : 딸기, 얼음, 우유  \n",
      "추천요리 : 딸기우유 스무디  \n",
      "조리법  \n",
      "1. 딸기를 씻어 꼭지를 제거하고 적당한 크기로 자른다.  \n",
      "2. 블렌더에 딸기, 얼음, 우유를 넣는다.  \n",
      "3. 부드럽게 갈아질 때까지 블렌더를 작동시킨다.  \n",
      "4. 필요하면 물이나 설탕을 약간 추가해 농도와 단맛을 조절한다.  \n",
      "5. 컵에 따라내어 바로 즐긴다.\n"
     ]
    }
   ],
   "source": [
    "recipe = ai_cook([\"딸기\",\"얼음\",\"우유\"])\n",
    "print(recipe)"
   ]
  },
  {
   "cell_type": "code",
   "execution_count": 10,
   "id": "7ec0caf8",
   "metadata": {},
   "outputs": [
    {
     "name": "stdout",
     "output_type": "stream",
     "text": [
      "재료 : 돼지고기, 밥, 청고추, 고수, 동남아풍 향신 채소  \n",
      "추천요리 : 동남아식 고수·청고추 돼지고기 볶음밥  \n",
      "조리법:\n",
      "1. 돼지고기를 한 입 크기로 썰어 소금·후추(기본)로 간하고, 팬에 식용유를 두른 뒤 중불에서 볶아 익힌다.  \n",
      "2. 청고추를 얇게 슬라이스하고, 동남아풍 향신 채소(예: 레몬그라스, 라임잎, 고추)와 함께 돼지고기에 넣고 1분 정도 빠르게 볶는다.  \n",
      "3. 밥을 넣고 고루 섞으며 볶는다. 밥이 고르게 달궈지면 간장을 적당량(취향에 따라) 넣고 다시 한번 섞는다.  \n",
      "4. 마지막으로 다진 고수를 넣고 재빨리 섞어 불을 끈다.  \n",
      "5. 접시에 담아 필요하면 라임 조각이나 고추를 추가로 올려 완성한다.\n"
     ]
    }
   ],
   "source": [
    "recipe = ai_cook([\"돼지고기\",\"밥\",\"청고추\",\"고수\",\"동남아풍 향신 채소\"])\n",
    "print(recipe)"
   ]
  },
  {
   "cell_type": "code",
   "execution_count": 11,
   "id": "7cabae5a",
   "metadata": {},
   "outputs": [
    {
     "name": "stdout",
     "output_type": "stream",
     "text": [
      "재료 : 배, 사과, 간장, 소고기 갈빗살, 홍고추, 설탕, 물, 식용유  \n",
      "추천요리 : 배·사과 소고기 갈비찜  \n",
      "조리법  \n",
      "1. 배와 사과는 얇게 슬라이스하고, 홍고추는 어슷썰기한다.  \n",
      "2. 소고기 갈빗살은 한입 크기로 썰어 물에 10분 정도 담가 핏물을 제거한 뒤 물기를 닦아낸다.  \n",
      "3. 팬에 식용유를 두르고 중강불에서 소고기를 살짝 익힌 뒤 건져 놓는다.  \n",
      "4. 같은 팬에 배·사과·홍고추를 넣고 1~2분 정도 살짝 볶는다.  \n",
      "5. 간장 3큰술, 설탕 1큰술, 물 ½컵을 넣고 끓인다.  \n",
      "6. 익힌 소고기를 다시 팬에 넣고 양념이 골고루 배도록 5분 정도 약불에 졸인다.  \n",
      "7. 불을 끄고 2분 정도 뜸을 들인 뒤 그릇에 담아 완성한다.\n"
     ]
    }
   ],
   "source": [
    "recipe = ai_cook([\"배\",\"사과\",\"간장\",\"소고기 갈빗살\",\"홍고추\",\"설탕\"])\n",
    "print(recipe)"
   ]
  },
  {
   "cell_type": "code",
   "execution_count": 88,
   "id": "f216ecb5",
   "metadata": {},
   "outputs": [
    {
     "name": "stdout",
     "output_type": "stream",
     "text": [
      "材料: 人参, ジャガイモ, 牛肉, カレースープ, バター  \n",
      "おすすめ料理: ビーフカレー炒めごはん  \n",
      "作り方:  \n",
      "1. 人参とジャガイモは一口大に切り、牛肉も同様に切る。  \n",
      "2. フライパンにバターを熱し、牛肉を炒めて色が変わったら取り出す。  \n",
      "3. 同じフライパンで人参とジャガイモを中火で炒め、全体に油が回ったらカレースープを加える。  \n",
      "4. 野菜が柔らかくなるまで煮込み、牛肉を戻し入れてさらに1分ほど煮る。  \n",
      "5. 炊いたご飯をフライパンに加え、全体をよく混ぜ合わせて味をなじませたら完成。\n"
     ]
    }
   ],
   "source": [
    "print(ai_cook([\"人参\",\"ジャガイモ\",\"牛肉\",\"カレースープ\",\"バター\"]))"
   ]
  }
 ],
 "metadata": {
  "kernelspec": {
   "display_name": "mylangchain-app-SBe-Yh6W-py3.13",
   "language": "python",
   "name": "python3"
  },
  "language_info": {
   "codemirror_mode": {
    "name": "ipython",
    "version": 3
   },
   "file_extension": ".py",
   "mimetype": "text/x-python",
   "name": "python",
   "nbconvert_exporter": "python",
   "pygments_lexer": "ipython3",
   "version": "3.13.5"
  }
 },
 "nbformat": 4,
 "nbformat_minor": 5
}
