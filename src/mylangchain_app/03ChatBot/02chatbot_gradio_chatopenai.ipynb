{
 "cells": [
  {
   "cell_type": "markdown",
   "metadata": {
    "id": "_pyLTgWwvQhV"
   },
   "source": [
    "그라디오 챗봇와 랭체인 LLM 연동하기"
   ]
  },
  {
   "cell_type": "code",
   "execution_count": null,
   "metadata": {
    "colab": {
     "base_uri": "https://localhost:8080/"
    },
    "executionInfo": {
     "elapsed": 29624,
     "status": "ok",
     "timestamp": 1739071493071,
     "user": {
      "displayName": "Myung Sook Baek",
      "userId": "06392624545902733911"
     },
     "user_tz": -540
    },
    "id": "mho6mQWYvUle",
    "outputId": "05496f39-0f87-447e-d46a-0edbf9566171"
   },
   "outputs": [],
   "source": [
    "# 그라디오 라이브러리를 설치합니다.\n",
    "#poetry add gradio \n",
    "# 랭체인 라이브러리를 설치합니다.\n",
    "#poetry add langchain \n",
    "# 랭체인 OpenAI 연동 라이브러리를 설치합니다.\n",
    "#poetry add langchain-openai"
   ]
  },
  {
   "cell_type": "markdown",
   "metadata": {},
   "source": [
    "#### LangChain의 ChatOpenAI가 환경 변수를 자동으로 로드하는 방식\n",
    "* load_dotenv()를 실행하면 .env 파일에 있는 환경 변수가 시스템 환경 변수로 등록됨\n",
    "* LangChain의 ChatOpenAI는 api_key=None일 때 os.getenv(\"OPENAI_API_KEY\")를 자동으로 불러옴\n",
    "* 따라서 api_key를 명시적으로 설정하지 않아도 API 키가 자동으로 적용됨"
   ]
  },
  {
   "cell_type": "code",
   "execution_count": 1,
   "metadata": {
    "executionInfo": {
     "elapsed": 9,
     "status": "ok",
     "timestamp": 1739073587961,
     "user": {
      "displayName": "Myung Sook Baek",
      "userId": "06392624545902733911"
     },
     "user_tz": -540
    },
    "id": "1eHQ5ThX3KHP"
   },
   "outputs": [
    {
     "name": "stdout",
     "output_type": "stream",
     "text": [
      "gsk_\n"
     ]
    }
   ],
   "source": [
    "from dotenv import load_dotenv\n",
    "import os\n",
    "\n",
    "# .env 파일을 불러와서 환경 변수로 설정\n",
    "load_dotenv()\n",
    "\n",
    "OPENAI_API_KEY = os.getenv(\"OPENAI_API_KEY\")\n",
    "print(OPENAI_API_KEY[:4])"
   ]
  },
  {
   "cell_type": "code",
   "execution_count": 2,
   "metadata": {},
   "outputs": [
    {
     "name": "stdout",
     "output_type": "stream",
     "text": [
      "0.3.27\n"
     ]
    }
   ],
   "source": [
    "import langchain\n",
    "\n",
    "print(langchain.__version__)"
   ]
  },
  {
   "cell_type": "code",
   "execution_count": 3,
   "metadata": {
    "colab": {
     "base_uri": "https://localhost:8080/"
    },
    "executionInfo": {
     "elapsed": 4273,
     "status": "ok",
     "timestamp": 1739073595715,
     "user": {
      "displayName": "Myung Sook Baek",
      "userId": "06392624545902733911"
     },
     "user_tz": -540
    },
    "id": "3_Wj7jaE4giS",
    "outputId": "b9e33cb5-b7d6-4080-89eb-7722641b7f50"
   },
   "outputs": [
    {
     "name": "stderr",
     "output_type": "stream",
     "text": [
      "c:\\Users\\winds\\AppData\\Local\\pypoetry\\Cache\\virtualenvs\\mylangchain-app-SBe-Yh6W-py3.13\\Lib\\site-packages\\tqdm\\auto.py:21: TqdmWarning: IProgress not found. Please update jupyter and ipywidgets. See https://ipywidgets.readthedocs.io/en/stable/user_install.html\n",
      "  from .autonotebook import tqdm as notebook_tqdm\n"
     ]
    },
    {
     "name": "stdout",
     "output_type": "stream",
     "text": [
      "content='파이썬(Python)은 1991년 네덜란드의 개도반 반 로섬(Guido van Rossum)이 발표한 고급 프로그래밍 언어입니다. 이름은 그가 좋아했던 코미디 그룹 ‘Monty Python’에서 따왔습니다.\\n\\n### 핵심 특징\\n1. **문법이 단순하고 가독성이 높다**  \\n   들여쓰기(indentation)로 블록을 구분하며, C/C++이나 Java처럼 중괄호 `{}`나 세미콜론 `;`이 거의 필요 없습니다.\\n\\n2. **인터프리터 언어**  \\n   소스코드를 한 줄씩 해석해 즉시 실행하므로 컴파일 과정이 따로 필요 없어 빠른 프로토타이핑에 적합합니다.\\n\\n3. **크로스 플랫폼**  \\n   Windows, macOS, Linux 등 대부분의 운영체제에서 동일한 코드를 수정 없이 실행할 수 있습니다.\\n\\n4. **풍부한 표준 라이브러리 & 생태계**  \\n   웹(Flask, Django), 데이터 분석(pandas, NumPy), 머신러닝(PyTorch, TensorFlow), 자동화(Selenium, Airflow) 등 수많은 서드파티 패키지가 있어 ‘배터리 포함’(batteries included)이라는 말이 붙습니다.\\n\\n5. **동적 타이핑**  \\n   변수 타입을 선언하지 않아도 컴파일 시점이 아닌 런타임에 타입이 결정됩니다. 개발 속도는 빠르지만, 대규모 코드에서는 타입 힌트(PEP 484)를 활용해 안정성을 보완하기도 합니다.\\n\\n6. **객체 지향 + 절차 지향 + 함수형 지원**  \\n   클래스 기반 객체 지향은 물론, 함수형 프로그래밍의 고차 함수, 람다, 컴프리헨션 등을 모두 지원해 다양한 패러다임을 혼용할 수 있습니다.\\n\\n### 버전\\n- 파이썬 2.x는 2020년 공식 지원 종료.  \\n- 현재는 파이썬 3.x(최신 안정 버전은 3.12 이상)를 사용하는 것이 표준입니다.\\n\\n### 활용 분야\\n- 웹 개발(Django, FastAPI)\\n- 데이터 과학·인공지능(NumPy, pandas, scikit-learn, PyTorch)\\n- DevOps·자동화 스크립트(Ansible, Fabric)\\n- 데스크톱 GUI(Tkinter, PyQt)\\n- 게임 개발(Pygame)\\n- 임베디드·사물인터넷(MicroPython, CircuitPython)\\n\\n### 간단한 예제\\n```python\\n# 1부터 10까지의 합\\ntotal = sum(range(1, 11))\\nprint(\"합계:\", total)\\n```\\n\\n### 요약\\n“쉽게 배우고, 빠르게 개발하며, 어디서나 실행할 수 있는” 다목적 언어가 바로 파이썬입니다.' additional_kwargs={'refusal': None} response_metadata={'token_usage': {'completion_tokens': 778, 'prompt_tokens': 34, 'total_tokens': 812, 'completion_tokens_details': None, 'prompt_tokens_details': None, 'queue_time': 1.266547734, 'prompt_time': 2.026965256, 'completion_time': 2.9754899249999998, 'total_time': 5.002455181}, 'model_name': 'moonshotai/kimi-k2-instruct-0905', 'system_fingerprint': 'fp_b8565bb333', 'id': 'chatcmpl-46f53470-517d-4763-a051-f44609e1c219', 'service_tier': 'on_demand', 'finish_reason': 'stop', 'logprobs': None} id='run--32525a96-dbb5-4f78-9bb6-d7ec9dbe5da4-0' usage_metadata={'input_tokens': 34, 'output_tokens': 778, 'total_tokens': 812, 'input_token_details': {}, 'output_token_details': {}}\n",
      "파이썬(Python)은 1991년 네덜란드의 개도반 반 로섬(Guido van Rossum)이 발표한 고급 프로그래밍 언어입니다. 이름은 그가 좋아했던 코미디 그룹 ‘Monty Python’에서 따왔습니다.\n",
      "\n",
      "### 핵심 특징\n",
      "1. **문법이 단순하고 가독성이 높다**  \n",
      "   들여쓰기(indentation)로 블록을 구분하며, C/C++이나 Java처럼 중괄호 `{}`나 세미콜론 `;`이 거의 필요 없습니다.\n",
      "\n",
      "2. **인터프리터 언어**  \n",
      "   소스코드를 한 줄씩 해석해 즉시 실행하므로 컴파일 과정이 따로 필요 없어 빠른 프로토타이핑에 적합합니다.\n",
      "\n",
      "3. **크로스 플랫폼**  \n",
      "   Windows, macOS, Linux 등 대부분의 운영체제에서 동일한 코드를 수정 없이 실행할 수 있습니다.\n",
      "\n",
      "4. **풍부한 표준 라이브러리 & 생태계**  \n",
      "   웹(Flask, Django), 데이터 분석(pandas, NumPy), 머신러닝(PyTorch, TensorFlow), 자동화(Selenium, Airflow) 등 수많은 서드파티 패키지가 있어 ‘배터리 포함’(batteries included)이라는 말이 붙습니다.\n",
      "\n",
      "5. **동적 타이핑**  \n",
      "   변수 타입을 선언하지 않아도 컴파일 시점이 아닌 런타임에 타입이 결정됩니다. 개발 속도는 빠르지만, 대규모 코드에서는 타입 힌트(PEP 484)를 활용해 안정성을 보완하기도 합니다.\n",
      "\n",
      "6. **객체 지향 + 절차 지향 + 함수형 지원**  \n",
      "   클래스 기반 객체 지향은 물론, 함수형 프로그래밍의 고차 함수, 람다, 컴프리헨션 등을 모두 지원해 다양한 패러다임을 혼용할 수 있습니다.\n",
      "\n",
      "### 버전\n",
      "- 파이썬 2.x는 2020년 공식 지원 종료.  \n",
      "- 현재는 파이썬 3.x(최신 안정 버전은 3.12 이상)를 사용하는 것이 표준입니다.\n",
      "\n",
      "### 활용 분야\n",
      "- 웹 개발(Django, FastAPI)\n",
      "- 데이터 과학·인공지능(NumPy, pandas, scikit-learn, PyTorch)\n",
      "- DevOps·자동화 스크립트(Ansible, Fabric)\n",
      "- 데스크톱 GUI(Tkinter, PyQt)\n",
      "- 게임 개발(Pygame)\n",
      "- 임베디드·사물인터넷(MicroPython, CircuitPython)\n",
      "\n",
      "### 간단한 예제\n",
      "```python\n",
      "# 1부터 10까지의 합\n",
      "total = sum(range(1, 11))\n",
      "print(\"합계:\", total)\n",
      "```\n",
      "\n",
      "### 요약\n",
      "“쉽게 배우고, 빠르게 개발하며, 어디서나 실행할 수 있는” 다목적 언어가 바로 파이썬입니다.\n"
     ]
    }
   ],
   "source": [
    "from langchain_openai import ChatOpenAI\n",
    "\n",
    "# LLM 인스턴스 생성\n",
    "#llm = ChatOpenAI(model_name=\"gpt-3.5-turbo\")\n",
    "llm = ChatOpenAI(\n",
    "    base_url=\"https://api.groq.com/openai/v1\",\n",
    "    #model=\"meta-llama/llama-4-scout-17b-16e-instruct\",\n",
    "    model=\"moonshotai/kimi-k2-instruct-0905\",\n",
    "    temperature=0\n",
    ")\n",
    "\n",
    "response = llm.invoke([{\"role\": \"user\", \"content\": \"파이썬이란?\"}])\n",
    "print(response)\n",
    "print(response.content)"
   ]
  },
  {
   "cell_type": "markdown",
   "metadata": {},
   "source": [
    "#### API 키를 명시적으로 설정하는 방법"
   ]
  },
  {
   "cell_type": "code",
   "execution_count": 4,
   "metadata": {},
   "outputs": [
    {
     "name": "stdout",
     "output_type": "stream",
     "text": [
      "content='파이썬(Python)은 1991년 네덜란드의 개도반 반 로섬(Guido van Rossum)이 만든 **고급 프로그래밍 언어**입니다.  \\n“고급”이라는 말은 **사람이 읽고 쓰기 쉽게 설계됐다**는 뜻이고, “프로그래밍 언어”는 **컴퓨터에게 일을 시키기 위한 말**이라고 생각하면 됩니다.\\n\\n### 파이썬의 핵심 특징\\n1. **문법이 단순하고 깔끔**  \\n   - C/C++·자바 같은 언어보다 코드가 짧고 읽기 쉬움  \\n   - 들여쓰기(indent)로 블록을 구분 → 중괄호 `{}`나 세미콜론 `;`이 거의 없음  \\n\\n2. **인터프리터 언어**  \\n   - 소스코드를 한 줄씩 즉시 실행 → “쓰고 바로 실행”이 가능  \\n   - 별도의 컴파일(빌드) 과정이 필요 없음  \\n\\n3. **크로스플랫폼**  \\n   - Windows·macOS·Linux·임베디드 등 대부분의 운영체제에서 동일한 코드 실행 가능  \\n\\n4. **방대한 생태계**  \\n   - 웹(Django·Flask), 데이터분석(pandas·NumPy), AI/머신러닝(PyTorch·TensorFlow), 자동화·크롤링(Selenium·BeautifulSoup), 게임·IoT 등 거의 모든 분야에 라이브러리가 준비돼 있음  \\n\\n5. **무료·오픈소스**  \\n   - 누구나 다운로드·활용·수정·배포 가능  \\n\\n### 짧은 예시\\n```python\\n# 이름을 입력받아 인사하는 프로그램\\nname = input(\"이름을 입력하세요: \")\\nprint(f\"안녕하세요, {name}님!\")\\n```\\n위 3줄을 `.py` 파일로 저장하거나 대화형 프롬프트(REPL)에 바로 붙여 넣으면 즉시 실행됨.\\n\\n### 요약\\n파이썬은 **“쉽게 배우고, 빠르게 개발하며, 어디서나 활용할 수 있는”** 현대적 프로그래밍 언어입니다.  \\n코딩 입문자부터 데이터科學자, 웹·AI 개발자까지 폭넓게 쓰이는 이유가 바로 위와 같은 장점 때문입니다.' additional_kwargs={'refusal': None} response_metadata={'token_usage': {'completion_tokens': 654, 'prompt_tokens': 34, 'total_tokens': 688, 'completion_tokens_details': None, 'prompt_tokens_details': None, 'queue_time': 0.05936381, 'prompt_time': 0.009963659, 'completion_time': 2.328465594, 'total_time': 2.338429253}, 'model_name': 'moonshotai/kimi-k2-instruct-0905', 'system_fingerprint': 'fp_b8565bb333', 'id': 'chatcmpl-379183ab-dd4f-4b2a-979a-0b5dd0c07080', 'service_tier': 'on_demand', 'finish_reason': 'stop', 'logprobs': None} id='run--b3cfa2b1-7487-403a-9265-dcc70d30d6a4-0' usage_metadata={'input_tokens': 34, 'output_tokens': 654, 'total_tokens': 688, 'input_token_details': {}, 'output_token_details': {}}\n"
     ]
    }
   ],
   "source": [
    "from langchain_openai import ChatOpenAI\n",
    "\n",
    "# 명시적으로 API 키 설정\n",
    "#llm = ChatOpenAI(model=\"gpt-3.5-turbo\", api_key=OPENAI_API_KEY)  \n",
    "llm = ChatOpenAI(\n",
    "    api_key=OPENAI_API_KEY,\n",
    "    base_url=\"https://api.groq.com/openai/v1\",\n",
    "    #model=\"meta-llama/llama-4-scout-17b-16e-instruct\",\n",
    "    model=\"moonshotai/kimi-k2-instruct-0905\",\n",
    "    temperature=0\n",
    ")\n",
    "\n",
    "response = llm.invoke([{\"role\": \"user\", \"content\": \"파이썬이란?\"}])\n",
    "print(response)"
   ]
  },
  {
   "cell_type": "code",
   "execution_count": 4,
   "metadata": {
    "colab": {
     "base_uri": "https://localhost:8080/",
     "height": 721
    },
    "executionInfo": {
     "elapsed": 120391,
     "status": "ok",
     "timestamp": 1739073719232,
     "user": {
      "displayName": "Myung Sook Baek",
      "userId": "06392624545902733911"
     },
     "user_tz": -540
    },
    "id": "wRX0aUZk7Zul",
    "outputId": "5eba57b6-5fbf-4597-de9a-d473e943d423"
   },
   "outputs": [
    {
     "name": "stdout",
     "output_type": "stream",
     "text": [
      "* Running on local URL:  http://127.0.0.1:7874\n",
      "* To create a public link, set `share=True` in `launch()`.\n"
     ]
    },
    {
     "data": {
      "text/html": [
       "<div><iframe src=\"http://127.0.0.1:7874/\" width=\"100%\" height=\"500\" allow=\"autoplay; camera; microphone; clipboard-read; clipboard-write;\" frameborder=\"0\" allowfullscreen></iframe></div>"
      ],
      "text/plain": [
       "<IPython.core.display.HTML object>"
      ]
     },
     "metadata": {},
     "output_type": "display_data"
    },
    {
     "name": "stdout",
     "output_type": "stream",
     "text": [
      "Keyboard interruption in main thread... closing server.\n"
     ]
    },
    {
     "data": {
      "text/plain": []
     },
     "execution_count": 4,
     "metadata": {},
     "output_type": "execute_result"
    }
   ],
   "source": [
    "# 그라디오 라이브러리를 불러옵니다.\n",
    "import gradio as gr\n",
    "# LangChain 의 ChatOpenAI 를 불러옵니다.\n",
    "from langchain_openai import ChatOpenAI\n",
    "\n",
    "# ChatOpenAI 인스턴스 생성\n",
    "#llm = ChatOpenAI(model=\"gpt-3.5-turbo\")\n",
    "llm = ChatOpenAI(\n",
    "    base_url=\"https://api.groq.com/openai/v1\",\n",
    "    #model=\"meta-llama/llama-4-scout-17b-16e-instruct\",\n",
    "    model=\"moonshotai/kimi-k2-instruct-0905\",\n",
    "    temperature=0\n",
    ")\n",
    "\n",
    "# 채팅봇의 응답을 처리하는 함수를 정의합니다.\n",
    "def chat_respond(message, chat_history):  \n",
    "    response = llm.invoke([{\"role\": \"user\", \"content\": message}])\n",
    "    bot_message = response.content\n",
    "    \n",
    "    chat_history.append({\"role\": \"user\", \"content\": message})\n",
    "    chat_history.append({\"role\": \"assistant\", \"content\": bot_message})\n",
    "\n",
    "    # 수정된 채팅 기록을 반환합니다.\n",
    "    return \"\", chat_history  \n",
    "\n",
    "# gr.Blocks()를 사용하여 인터페이스를 생성합니다.\n",
    "with gr.Blocks() as demo:  \n",
    "    chatbot = gr.Chatbot(label=\"채팅창\", type=\"messages\")  # '채팅창'이라는 레이블을 가진 채팅봇 컴포넌트를 생성합니다.\n",
    "    msg = gr.Textbox(label=\"입력\")  # '입력'이라는 레이블을 가진 텍스트박스를 생성합니다.\n",
    "    clear = gr.Button(\"초기화\")  # '초기화'라는 레이블을 가진 버튼을 생성합니다.\n",
    "\n",
    "    # 텍스트박스에 메시지를 입력하고 제출하면 respond 함수가 호출되도록 합니다.\n",
    "    msg.submit(chat_respond, [msg, chatbot], [msg, chatbot])  \n",
    "    # '초기화' 버튼을 클릭하면 채팅 기록을 초기화합니다.\n",
    "    clear.click(lambda: None, None, chatbot, queue=False)  \n",
    "\n",
    "# 인터페이스를 실행합니다. 실행하면 사용자는 '입력' 텍스트박스에 메시지를 작성하고 제출할 수 있으며, '초기화' 버튼을 통해 채팅 기록을 초기화 할 수 있습니다.\n",
    "demo.launch(debug=True)  "
   ]
  },
  {
   "cell_type": "code",
   "execution_count": null,
   "metadata": {},
   "outputs": [],
   "source": []
  }
 ],
 "metadata": {
  "colab": {
   "authorship_tag": "ABX9TyObKSkPPvS7YmfW96AW/9bs",
   "provenance": []
  },
  "kernelspec": {
   "display_name": "mylangchain-app-SBe-Yh6W-py3.13",
   "language": "python",
   "name": "python3"
  },
  "language_info": {
   "codemirror_mode": {
    "name": "ipython",
    "version": 3
   },
   "file_extension": ".py",
   "mimetype": "text/x-python",
   "name": "python",
   "nbconvert_exporter": "python",
   "pygments_lexer": "ipython3",
   "version": "3.13.5"
  }
 },
 "nbformat": 4,
 "nbformat_minor": 4
}
